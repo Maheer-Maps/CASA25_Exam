{
  "cells": [
    {
      "cell_type": "markdown",
      "metadata": {
        "id": "view-in-github",
        "colab_type": "text"
      },
      "source": [
        "<a href=\"https://colab.research.google.com/github/Maheer-Maps/CASA0025-Big-Data/blob/main/Maheers_CASA0025_EXAM.ipynb\" target=\"_parent\"><img src=\"https://colab.research.google.com/assets/colab-badge.svg\" alt=\"Open In Colab\"/></a>"
      ]
    },
    {
      "cell_type": "markdown",
      "id": "0uOOJ-4J1yGS",
      "metadata": {
        "id": "0uOOJ-4J1yGS"
      },
      "source": [
        "# Week 5 Quiz\n",
        "\n",
        "This notebook contains the SQL Quiz for Week 5. Section 1 uses the New York City data we know and love. Section 2 will conduct a spatial damage assessment across the Gaza strip.\n",
        "\n",
        "### INSTRUCTIONS:\n",
        "\n",
        "Run this notebook in Google Colab. The answer to each quesiton will be a number or a string. Input these into the corresponding question on Moodle. You have 90 minutes to attempt the quiz, so if you get stuck on a question, move on.\n",
        "\n",
        "Make sure you run all of the cells of code in order. If you run into serious problems, try clicking on the \"runtime\" tab above and selecting \"restart session and run all\"."
      ]
    },
    {
      "cell_type": "markdown",
      "id": "oV3MzAJb1yGU",
      "metadata": {
        "id": "oV3MzAJb1yGU"
      },
      "source": [
        "# Section 1\n",
        "\n"
      ]
    },
    {
      "cell_type": "markdown",
      "id": "j9Eitay5ol_6",
      "metadata": {
        "id": "j9Eitay5ol_6"
      },
      "source": [
        "This URL: `https://s3.amazonaws.com/s3.cleverelephant.ca/postgis-workshop-2020.zip` points to a .zip file containing shapefiles associated with the NYC data that we've been using in class so far. You can choose how to use sql, either the `con.sql()` syntax or the `%%sql` syntax. Either way, use the code cell below to install and import the necessary packages."
      ]
    },
    {
      "cell_type": "code",
      "execution_count": null,
      "id": "77b72f0d",
      "metadata": {
        "id": "77b72f0d",
        "colab": {
          "base_uri": "https://localhost:8080/"
        },
        "outputId": "2d6b5ccc-61f8-41c8-d13b-4b365ac10e1e"
      },
      "outputs": [
        {
          "output_type": "stream",
          "name": "stdout",
          "text": [
            "Requirement already satisfied: duckdb in /usr/local/lib/python3.11/dist-packages (1.1.3)\n",
            "Collecting duckdb-engine\n",
            "  Downloading duckdb_engine-0.15.0-py3-none-any.whl.metadata (7.9 kB)\n",
            "Collecting jupysql\n",
            "  Downloading jupysql-0.10.17-py3-none-any.whl.metadata (5.7 kB)\n",
            "Requirement already satisfied: packaging>=21 in /usr/local/lib/python3.11/dist-packages (from duckdb-engine) (24.2)\n",
            "Requirement already satisfied: sqlalchemy>=1.3.22 in /usr/local/lib/python3.11/dist-packages (from duckdb-engine) (2.0.37)\n",
            "Requirement already satisfied: prettytable>=3.12.0 in /usr/local/lib/python3.11/dist-packages (from jupysql) (3.14.0)\n",
            "Requirement already satisfied: sqlparse in /usr/local/lib/python3.11/dist-packages (from jupysql) (0.5.3)\n",
            "Requirement already satisfied: ipython-genutils>=0.1.0 in /usr/local/lib/python3.11/dist-packages (from jupysql) (0.2.0)\n",
            "Requirement already satisfied: jinja2 in /usr/local/lib/python3.11/dist-packages (from jupysql) (3.1.5)\n",
            "Requirement already satisfied: sqlglot>=11.3.7 in /usr/local/lib/python3.11/dist-packages (from jupysql) (25.6.1)\n",
            "Collecting jupysql-plugin>=0.4.2 (from jupysql)\n",
            "  Downloading jupysql_plugin-0.4.5-py3-none-any.whl.metadata (7.8 kB)\n",
            "Collecting ploomber-core>=0.2.7 (from jupysql)\n",
            "  Downloading ploomber_core-0.2.26-py3-none-any.whl.metadata (527 bytes)\n",
            "Requirement already satisfied: pyyaml in /usr/local/lib/python3.11/dist-packages (from ploomber-core>=0.2.7->jupysql) (6.0.2)\n",
            "Collecting posthog (from ploomber-core>=0.2.7->jupysql)\n",
            "  Downloading posthog-3.12.1-py2.py3-none-any.whl.metadata (2.9 kB)\n",
            "Requirement already satisfied: wcwidth in /usr/local/lib/python3.11/dist-packages (from prettytable>=3.12.0->jupysql) (0.2.13)\n",
            "Requirement already satisfied: greenlet!=0.4.17 in /usr/local/lib/python3.11/dist-packages (from sqlalchemy>=1.3.22->duckdb-engine) (3.1.1)\n",
            "Requirement already satisfied: typing-extensions>=4.6.0 in /usr/local/lib/python3.11/dist-packages (from sqlalchemy>=1.3.22->duckdb-engine) (4.12.2)\n",
            "Requirement already satisfied: MarkupSafe>=2.0 in /usr/local/lib/python3.11/dist-packages (from jinja2->jupysql) (3.0.2)\n",
            "Requirement already satisfied: requests<3.0,>=2.7 in /usr/local/lib/python3.11/dist-packages (from posthog->ploomber-core>=0.2.7->jupysql) (2.32.3)\n",
            "Requirement already satisfied: six>=1.5 in /usr/local/lib/python3.11/dist-packages (from posthog->ploomber-core>=0.2.7->jupysql) (1.17.0)\n",
            "Collecting monotonic>=1.5 (from posthog->ploomber-core>=0.2.7->jupysql)\n",
            "  Downloading monotonic-1.6-py2.py3-none-any.whl.metadata (1.5 kB)\n",
            "Collecting backoff>=1.10.0 (from posthog->ploomber-core>=0.2.7->jupysql)\n",
            "  Downloading backoff-2.2.1-py3-none-any.whl.metadata (14 kB)\n",
            "Requirement already satisfied: python-dateutil>2.1 in /usr/local/lib/python3.11/dist-packages (from posthog->ploomber-core>=0.2.7->jupysql) (2.8.2)\n",
            "Requirement already satisfied: charset-normalizer<4,>=2 in /usr/local/lib/python3.11/dist-packages (from requests<3.0,>=2.7->posthog->ploomber-core>=0.2.7->jupysql) (3.4.1)\n",
            "Requirement already satisfied: idna<4,>=2.5 in /usr/local/lib/python3.11/dist-packages (from requests<3.0,>=2.7->posthog->ploomber-core>=0.2.7->jupysql) (3.10)\n",
            "Requirement already satisfied: urllib3<3,>=1.21.1 in /usr/local/lib/python3.11/dist-packages (from requests<3.0,>=2.7->posthog->ploomber-core>=0.2.7->jupysql) (2.3.0)\n",
            "Requirement already satisfied: certifi>=2017.4.17 in /usr/local/lib/python3.11/dist-packages (from requests<3.0,>=2.7->posthog->ploomber-core>=0.2.7->jupysql) (2025.1.31)\n",
            "Downloading duckdb_engine-0.15.0-py3-none-any.whl (49 kB)\n",
            "\u001b[2K   \u001b[90m━━━━━━━━━━━━━━━━━━━━━━━━━━━━━━━━━━━━━━━━\u001b[0m \u001b[32m49.6/49.6 kB\u001b[0m \u001b[31m2.2 MB/s\u001b[0m eta \u001b[36m0:00:00\u001b[0m\n",
            "\u001b[?25hDownloading jupysql-0.10.17-py3-none-any.whl (95 kB)\n",
            "\u001b[2K   \u001b[90m━━━━━━━━━━━━━━━━━━━━━━━━━━━━━━━━━━━━━━━━\u001b[0m \u001b[32m95.2/95.2 kB\u001b[0m \u001b[31m3.3 MB/s\u001b[0m eta \u001b[36m0:00:00\u001b[0m\n",
            "\u001b[?25hDownloading jupysql_plugin-0.4.5-py3-none-any.whl (192 kB)\n",
            "\u001b[2K   \u001b[90m━━━━━━━━━━━━━━━━━━━━━━━━━━━━━━━━━━━━━━━━\u001b[0m \u001b[32m192.8/192.8 kB\u001b[0m \u001b[31m4.3 MB/s\u001b[0m eta \u001b[36m0:00:00\u001b[0m\n",
            "\u001b[?25hDownloading ploomber_core-0.2.26-py3-none-any.whl (22 kB)\n",
            "Downloading posthog-3.12.1-py2.py3-none-any.whl (72 kB)\n",
            "\u001b[2K   \u001b[90m━━━━━━━━━━━━━━━━━━━━━━━━━━━━━━━━━━━━━━━━\u001b[0m \u001b[32m72.5/72.5 kB\u001b[0m \u001b[31m4.1 MB/s\u001b[0m eta \u001b[36m0:00:00\u001b[0m\n",
            "\u001b[?25hDownloading backoff-2.2.1-py3-none-any.whl (15 kB)\n",
            "Downloading monotonic-1.6-py2.py3-none-any.whl (8.2 kB)\n",
            "Installing collected packages: monotonic, backoff, posthog, duckdb-engine, ploomber-core, jupysql-plugin, jupysql\n",
            "Successfully installed backoff-2.2.1 duckdb-engine-0.15.0 jupysql-0.10.17 jupysql-plugin-0.4.5 monotonic-1.6 ploomber-core-0.2.26 posthog-3.12.1\n",
            "Collecting leafmap\n",
            "  Downloading leafmap-0.42.9-py2.py3-none-any.whl.metadata (16 kB)\n",
            "Collecting anywidget (from leafmap)\n",
            "  Downloading anywidget-0.9.13-py3-none-any.whl.metadata (7.2 kB)\n",
            "Requirement already satisfied: bqplot in /usr/local/lib/python3.11/dist-packages (from leafmap) (0.12.44)\n",
            "Requirement already satisfied: colour in /usr/local/lib/python3.11/dist-packages (from leafmap) (0.1.5)\n",
            "Requirement already satisfied: duckdb in /usr/local/lib/python3.11/dist-packages (from leafmap) (1.1.3)\n",
            "Requirement already satisfied: folium in /usr/local/lib/python3.11/dist-packages (from leafmap) (0.19.4)\n",
            "Requirement already satisfied: gdown in /usr/local/lib/python3.11/dist-packages (from leafmap) (5.2.0)\n",
            "Collecting geojson (from leafmap)\n",
            "  Downloading geojson-3.2.0-py3-none-any.whl.metadata (16 kB)\n",
            "Requirement already satisfied: ipyevents in /usr/local/lib/python3.11/dist-packages (from leafmap) (2.0.2)\n",
            "Requirement already satisfied: ipyfilechooser in /usr/local/lib/python3.11/dist-packages (from leafmap) (0.6.0)\n",
            "Requirement already satisfied: ipyleaflet in /usr/local/lib/python3.11/dist-packages (from leafmap) (0.19.2)\n",
            "Collecting ipyvuetify (from leafmap)\n",
            "  Downloading ipyvuetify-1.10.0-py2.py3-none-any.whl.metadata (7.5 kB)\n",
            "Requirement already satisfied: ipywidgets in /usr/local/lib/python3.11/dist-packages (from leafmap) (7.7.1)\n",
            "Requirement already satisfied: matplotlib in /usr/local/lib/python3.11/dist-packages (from leafmap) (3.10.0)\n",
            "Requirement already satisfied: numpy in /usr/local/lib/python3.11/dist-packages (from leafmap) (1.26.4)\n",
            "Requirement already satisfied: pandas in /usr/local/lib/python3.11/dist-packages (from leafmap) (2.2.2)\n",
            "Requirement already satisfied: plotly in /usr/local/lib/python3.11/dist-packages (from leafmap) (5.24.1)\n",
            "Requirement already satisfied: psutil in /usr/local/lib/python3.11/dist-packages (from leafmap) (5.9.5)\n",
            "Requirement already satisfied: pyshp in /usr/local/lib/python3.11/dist-packages (from leafmap) (2.3.1)\n",
            "Collecting pystac-client (from leafmap)\n",
            "  Downloading pystac_client-0.8.6-py3-none-any.whl.metadata (3.0 kB)\n",
            "Requirement already satisfied: python-box in /usr/local/lib/python3.11/dist-packages (from leafmap) (7.3.2)\n",
            "Requirement already satisfied: scooby in /usr/local/lib/python3.11/dist-packages (from leafmap) (0.10.0)\n",
            "Collecting whiteboxgui (from leafmap)\n",
            "  Downloading whiteboxgui-2.3.0-py2.py3-none-any.whl.metadata (5.7 kB)\n",
            "Requirement already satisfied: xyzservices in /usr/local/lib/python3.11/dist-packages (from leafmap) (2025.1.0)\n",
            "Collecting psygnal>=0.8.1 (from anywidget->leafmap)\n",
            "  Downloading psygnal-0.12.0-cp311-cp311-manylinux_2_17_x86_64.manylinux2014_x86_64.whl.metadata (7.7 kB)\n",
            "Requirement already satisfied: typing-extensions>=4.2.0 in /usr/local/lib/python3.11/dist-packages (from anywidget->leafmap) (4.12.2)\n",
            "Requirement already satisfied: ipykernel>=4.5.1 in /usr/local/lib/python3.11/dist-packages (from ipywidgets->leafmap) (5.5.6)\n",
            "Requirement already satisfied: ipython-genutils~=0.2.0 in /usr/local/lib/python3.11/dist-packages (from ipywidgets->leafmap) (0.2.0)\n",
            "Requirement already satisfied: traitlets>=4.3.1 in /usr/local/lib/python3.11/dist-packages (from ipywidgets->leafmap) (5.7.1)\n",
            "Requirement already satisfied: widgetsnbextension~=3.6.0 in /usr/local/lib/python3.11/dist-packages (from ipywidgets->leafmap) (3.6.10)\n",
            "Requirement already satisfied: ipython>=4.0.0 in /usr/local/lib/python3.11/dist-packages (from ipywidgets->leafmap) (7.34.0)\n",
            "Requirement already satisfied: jupyterlab-widgets>=1.0.0 in /usr/local/lib/python3.11/dist-packages (from ipywidgets->leafmap) (3.0.13)\n",
            "Requirement already satisfied: traittypes>=0.0.6 in /usr/local/lib/python3.11/dist-packages (from bqplot->leafmap) (0.2.1)\n",
            "Requirement already satisfied: python-dateutil>=2.8.2 in /usr/local/lib/python3.11/dist-packages (from pandas->leafmap) (2.8.2)\n",
            "Requirement already satisfied: pytz>=2020.1 in /usr/local/lib/python3.11/dist-packages (from pandas->leafmap) (2025.1)\n",
            "Requirement already satisfied: tzdata>=2022.7 in /usr/local/lib/python3.11/dist-packages (from pandas->leafmap) (2025.1)\n",
            "Requirement already satisfied: branca>=0.6.0 in /usr/local/lib/python3.11/dist-packages (from folium->leafmap) (0.8.1)\n",
            "Requirement already satisfied: jinja2>=2.9 in /usr/local/lib/python3.11/dist-packages (from folium->leafmap) (3.1.5)\n",
            "Requirement already satisfied: requests in /usr/local/lib/python3.11/dist-packages (from folium->leafmap) (2.32.3)\n",
            "Requirement already satisfied: beautifulsoup4 in /usr/local/lib/python3.11/dist-packages (from gdown->leafmap) (4.13.3)\n",
            "Requirement already satisfied: filelock in /usr/local/lib/python3.11/dist-packages (from gdown->leafmap) (3.17.0)\n",
            "Requirement already satisfied: tqdm in /usr/local/lib/python3.11/dist-packages (from gdown->leafmap) (4.67.1)\n",
            "Requirement already satisfied: jupyter-leaflet<0.20,>=0.19 in /usr/local/lib/python3.11/dist-packages (from ipyleaflet->leafmap) (0.19.2)\n",
            "Collecting ipyvue<2,>=1.7 (from ipyvuetify->leafmap)\n",
            "  Downloading ipyvue-1.11.2-py2.py3-none-any.whl.metadata (1.1 kB)\n",
            "Requirement already satisfied: contourpy>=1.0.1 in /usr/local/lib/python3.11/dist-packages (from matplotlib->leafmap) (1.3.1)\n",
            "Requirement already satisfied: cycler>=0.10 in /usr/local/lib/python3.11/dist-packages (from matplotlib->leafmap) (0.12.1)\n",
            "Requirement already satisfied: fonttools>=4.22.0 in /usr/local/lib/python3.11/dist-packages (from matplotlib->leafmap) (4.55.8)\n",
            "Requirement already satisfied: kiwisolver>=1.3.1 in /usr/local/lib/python3.11/dist-packages (from matplotlib->leafmap) (1.4.8)\n",
            "Requirement already satisfied: packaging>=20.0 in /usr/local/lib/python3.11/dist-packages (from matplotlib->leafmap) (24.2)\n",
            "Requirement already satisfied: pillow>=8 in /usr/local/lib/python3.11/dist-packages (from matplotlib->leafmap) (11.1.0)\n",
            "Requirement already satisfied: pyparsing>=2.3.1 in /usr/local/lib/python3.11/dist-packages (from matplotlib->leafmap) (3.2.1)\n",
            "Requirement already satisfied: tenacity>=6.2.0 in /usr/local/lib/python3.11/dist-packages (from plotly->leafmap) (9.0.0)\n",
            "Collecting pystac>=1.10.0 (from pystac[validation]>=1.10.0->pystac-client->leafmap)\n",
            "  Downloading pystac-1.12.1-py3-none-any.whl.metadata (4.6 kB)\n",
            "Requirement already satisfied: ipytree in /usr/local/lib/python3.11/dist-packages (from whiteboxgui->leafmap) (0.2.2)\n",
            "Collecting whitebox (from whiteboxgui->leafmap)\n",
            "  Downloading whitebox-2.3.5-py2.py3-none-any.whl.metadata (10 kB)\n",
            "Requirement already satisfied: jupyter-client in /usr/local/lib/python3.11/dist-packages (from ipykernel>=4.5.1->ipywidgets->leafmap) (6.1.12)\n",
            "Requirement already satisfied: tornado>=4.2 in /usr/local/lib/python3.11/dist-packages (from ipykernel>=4.5.1->ipywidgets->leafmap) (6.4.2)\n",
            "Requirement already satisfied: setuptools>=18.5 in /usr/local/lib/python3.11/dist-packages (from ipython>=4.0.0->ipywidgets->leafmap) (75.1.0)\n",
            "Collecting jedi>=0.16 (from ipython>=4.0.0->ipywidgets->leafmap)\n",
            "  Downloading jedi-0.19.2-py2.py3-none-any.whl.metadata (22 kB)\n",
            "Requirement already satisfied: decorator in /usr/local/lib/python3.11/dist-packages (from ipython>=4.0.0->ipywidgets->leafmap) (4.4.2)\n",
            "Requirement already satisfied: pickleshare in /usr/local/lib/python3.11/dist-packages (from ipython>=4.0.0->ipywidgets->leafmap) (0.7.5)\n",
            "Requirement already satisfied: prompt-toolkit!=3.0.0,!=3.0.1,<3.1.0,>=2.0.0 in /usr/local/lib/python3.11/dist-packages (from ipython>=4.0.0->ipywidgets->leafmap) (3.0.50)\n",
            "Requirement already satisfied: pygments in /usr/local/lib/python3.11/dist-packages (from ipython>=4.0.0->ipywidgets->leafmap) (2.18.0)\n",
            "Requirement already satisfied: backcall in /usr/local/lib/python3.11/dist-packages (from ipython>=4.0.0->ipywidgets->leafmap) (0.2.0)\n",
            "Requirement already satisfied: matplotlib-inline in /usr/local/lib/python3.11/dist-packages (from ipython>=4.0.0->ipywidgets->leafmap) (0.1.7)\n",
            "Requirement already satisfied: pexpect>4.3 in /usr/local/lib/python3.11/dist-packages (from ipython>=4.0.0->ipywidgets->leafmap) (4.9.0)\n",
            "Requirement already satisfied: MarkupSafe>=2.0 in /usr/local/lib/python3.11/dist-packages (from jinja2>=2.9->folium->leafmap) (3.0.2)\n",
            "Requirement already satisfied: jsonschema~=4.18 in /usr/local/lib/python3.11/dist-packages (from pystac[validation]>=1.10.0->pystac-client->leafmap) (4.23.0)\n",
            "Requirement already satisfied: six>=1.5 in /usr/local/lib/python3.11/dist-packages (from python-dateutil>=2.8.2->pandas->leafmap) (1.17.0)\n",
            "Requirement already satisfied: charset-normalizer<4,>=2 in /usr/local/lib/python3.11/dist-packages (from requests->folium->leafmap) (3.4.1)\n",
            "Requirement already satisfied: idna<4,>=2.5 in /usr/local/lib/python3.11/dist-packages (from requests->folium->leafmap) (3.10)\n",
            "Requirement already satisfied: urllib3<3,>=1.21.1 in /usr/local/lib/python3.11/dist-packages (from requests->folium->leafmap) (2.3.0)\n",
            "Requirement already satisfied: certifi>=2017.4.17 in /usr/local/lib/python3.11/dist-packages (from requests->folium->leafmap) (2025.1.31)\n",
            "Requirement already satisfied: notebook>=4.4.1 in /usr/local/lib/python3.11/dist-packages (from widgetsnbextension~=3.6.0->ipywidgets->leafmap) (6.5.5)\n",
            "Requirement already satisfied: soupsieve>1.2 in /usr/local/lib/python3.11/dist-packages (from beautifulsoup4->gdown->leafmap) (2.6)\n",
            "Requirement already satisfied: PySocks!=1.5.7,>=1.5.6 in /usr/local/lib/python3.11/dist-packages (from requests[socks]->gdown->leafmap) (1.7.1)\n",
            "Requirement already satisfied: Click>=6.0 in /usr/local/lib/python3.11/dist-packages (from whitebox->whiteboxgui->leafmap) (8.1.8)\n",
            "Requirement already satisfied: parso<0.9.0,>=0.8.4 in /usr/local/lib/python3.11/dist-packages (from jedi>=0.16->ipython>=4.0.0->ipywidgets->leafmap) (0.8.4)\n",
            "Requirement already satisfied: attrs>=22.2.0 in /usr/local/lib/python3.11/dist-packages (from jsonschema~=4.18->pystac[validation]>=1.10.0->pystac-client->leafmap) (25.1.0)\n",
            "Requirement already satisfied: jsonschema-specifications>=2023.03.6 in /usr/local/lib/python3.11/dist-packages (from jsonschema~=4.18->pystac[validation]>=1.10.0->pystac-client->leafmap) (2024.10.1)\n",
            "Requirement already satisfied: referencing>=0.28.4 in /usr/local/lib/python3.11/dist-packages (from jsonschema~=4.18->pystac[validation]>=1.10.0->pystac-client->leafmap) (0.36.2)\n",
            "Requirement already satisfied: rpds-py>=0.7.1 in /usr/local/lib/python3.11/dist-packages (from jsonschema~=4.18->pystac[validation]>=1.10.0->pystac-client->leafmap) (0.22.3)\n",
            "Requirement already satisfied: pyzmq<25,>=17 in /usr/local/lib/python3.11/dist-packages (from notebook>=4.4.1->widgetsnbextension~=3.6.0->ipywidgets->leafmap) (24.0.1)\n",
            "Requirement already satisfied: argon2-cffi in /usr/local/lib/python3.11/dist-packages (from notebook>=4.4.1->widgetsnbextension~=3.6.0->ipywidgets->leafmap) (23.1.0)\n",
            "Requirement already satisfied: jupyter-core>=4.6.1 in /usr/local/lib/python3.11/dist-packages (from notebook>=4.4.1->widgetsnbextension~=3.6.0->ipywidgets->leafmap) (5.7.2)\n",
            "Requirement already satisfied: nbformat in /usr/local/lib/python3.11/dist-packages (from notebook>=4.4.1->widgetsnbextension~=3.6.0->ipywidgets->leafmap) (5.10.4)\n",
            "Requirement already satisfied: nbconvert>=5 in /usr/local/lib/python3.11/dist-packages (from notebook>=4.4.1->widgetsnbextension~=3.6.0->ipywidgets->leafmap) (7.16.6)\n",
            "Requirement already satisfied: nest-asyncio>=1.5 in /usr/local/lib/python3.11/dist-packages (from notebook>=4.4.1->widgetsnbextension~=3.6.0->ipywidgets->leafmap) (1.6.0)\n",
            "Requirement already satisfied: Send2Trash>=1.8.0 in /usr/local/lib/python3.11/dist-packages (from notebook>=4.4.1->widgetsnbextension~=3.6.0->ipywidgets->leafmap) (1.8.3)\n",
            "Requirement already satisfied: terminado>=0.8.3 in /usr/local/lib/python3.11/dist-packages (from notebook>=4.4.1->widgetsnbextension~=3.6.0->ipywidgets->leafmap) (0.18.1)\n",
            "Requirement already satisfied: prometheus-client in /usr/local/lib/python3.11/dist-packages (from notebook>=4.4.1->widgetsnbextension~=3.6.0->ipywidgets->leafmap) (0.21.1)\n",
            "Requirement already satisfied: nbclassic>=0.4.7 in /usr/local/lib/python3.11/dist-packages (from notebook>=4.4.1->widgetsnbextension~=3.6.0->ipywidgets->leafmap) (1.2.0)\n",
            "Requirement already satisfied: ptyprocess>=0.5 in /usr/local/lib/python3.11/dist-packages (from pexpect>4.3->ipython>=4.0.0->ipywidgets->leafmap) (0.7.0)\n",
            "Requirement already satisfied: wcwidth in /usr/local/lib/python3.11/dist-packages (from prompt-toolkit!=3.0.0,!=3.0.1,<3.1.0,>=2.0.0->ipython>=4.0.0->ipywidgets->leafmap) (0.2.13)\n",
            "Requirement already satisfied: platformdirs>=2.5 in /usr/local/lib/python3.11/dist-packages (from jupyter-core>=4.6.1->notebook>=4.4.1->widgetsnbextension~=3.6.0->ipywidgets->leafmap) (4.3.6)\n",
            "Requirement already satisfied: notebook-shim>=0.2.3 in /usr/local/lib/python3.11/dist-packages (from nbclassic>=0.4.7->notebook>=4.4.1->widgetsnbextension~=3.6.0->ipywidgets->leafmap) (0.2.4)\n",
            "Requirement already satisfied: bleach!=5.0.0 in /usr/local/lib/python3.11/dist-packages (from bleach[css]!=5.0.0->nbconvert>=5->notebook>=4.4.1->widgetsnbextension~=3.6.0->ipywidgets->leafmap) (6.2.0)\n",
            "Requirement already satisfied: defusedxml in /usr/local/lib/python3.11/dist-packages (from nbconvert>=5->notebook>=4.4.1->widgetsnbextension~=3.6.0->ipywidgets->leafmap) (0.7.1)\n",
            "Requirement already satisfied: jupyterlab-pygments in /usr/local/lib/python3.11/dist-packages (from nbconvert>=5->notebook>=4.4.1->widgetsnbextension~=3.6.0->ipywidgets->leafmap) (0.3.0)\n",
            "Requirement already satisfied: mistune<4,>=2.0.3 in /usr/local/lib/python3.11/dist-packages (from nbconvert>=5->notebook>=4.4.1->widgetsnbextension~=3.6.0->ipywidgets->leafmap) (3.1.1)\n",
            "Requirement already satisfied: nbclient>=0.5.0 in /usr/local/lib/python3.11/dist-packages (from nbconvert>=5->notebook>=4.4.1->widgetsnbextension~=3.6.0->ipywidgets->leafmap) (0.10.2)\n",
            "Requirement already satisfied: pandocfilters>=1.4.1 in /usr/local/lib/python3.11/dist-packages (from nbconvert>=5->notebook>=4.4.1->widgetsnbextension~=3.6.0->ipywidgets->leafmap) (1.5.1)\n",
            "Requirement already satisfied: fastjsonschema>=2.15 in /usr/local/lib/python3.11/dist-packages (from nbformat->notebook>=4.4.1->widgetsnbextension~=3.6.0->ipywidgets->leafmap) (2.21.1)\n",
            "Requirement already satisfied: argon2-cffi-bindings in /usr/local/lib/python3.11/dist-packages (from argon2-cffi->notebook>=4.4.1->widgetsnbextension~=3.6.0->ipywidgets->leafmap) (21.2.0)\n",
            "Requirement already satisfied: webencodings in /usr/local/lib/python3.11/dist-packages (from bleach!=5.0.0->bleach[css]!=5.0.0->nbconvert>=5->notebook>=4.4.1->widgetsnbextension~=3.6.0->ipywidgets->leafmap) (0.5.1)\n",
            "Requirement already satisfied: tinycss2<1.5,>=1.1.0 in /usr/local/lib/python3.11/dist-packages (from bleach[css]!=5.0.0->nbconvert>=5->notebook>=4.4.1->widgetsnbextension~=3.6.0->ipywidgets->leafmap) (1.4.0)\n",
            "Requirement already satisfied: jupyter-server<3,>=1.8 in /usr/local/lib/python3.11/dist-packages (from notebook-shim>=0.2.3->nbclassic>=0.4.7->notebook>=4.4.1->widgetsnbextension~=3.6.0->ipywidgets->leafmap) (1.24.0)\n",
            "Requirement already satisfied: cffi>=1.0.1 in /usr/local/lib/python3.11/dist-packages (from argon2-cffi-bindings->argon2-cffi->notebook>=4.4.1->widgetsnbextension~=3.6.0->ipywidgets->leafmap) (1.17.1)\n",
            "Requirement already satisfied: pycparser in /usr/local/lib/python3.11/dist-packages (from cffi>=1.0.1->argon2-cffi-bindings->argon2-cffi->notebook>=4.4.1->widgetsnbextension~=3.6.0->ipywidgets->leafmap) (2.22)\n",
            "Requirement already satisfied: anyio<4,>=3.1.0 in /usr/local/lib/python3.11/dist-packages (from jupyter-server<3,>=1.8->notebook-shim>=0.2.3->nbclassic>=0.4.7->notebook>=4.4.1->widgetsnbextension~=3.6.0->ipywidgets->leafmap) (3.7.1)\n",
            "Requirement already satisfied: websocket-client in /usr/local/lib/python3.11/dist-packages (from jupyter-server<3,>=1.8->notebook-shim>=0.2.3->nbclassic>=0.4.7->notebook>=4.4.1->widgetsnbextension~=3.6.0->ipywidgets->leafmap) (1.8.0)\n",
            "Requirement already satisfied: sniffio>=1.1 in /usr/local/lib/python3.11/dist-packages (from anyio<4,>=3.1.0->jupyter-server<3,>=1.8->notebook-shim>=0.2.3->nbclassic>=0.4.7->notebook>=4.4.1->widgetsnbextension~=3.6.0->ipywidgets->leafmap) (1.3.1)\n",
            "Downloading leafmap-0.42.9-py2.py3-none-any.whl (515 kB)\n",
            "\u001b[2K   \u001b[90m━━━━━━━━━━━━━━━━━━━━━━━━━━━━━━━━━━━━━━━━\u001b[0m \u001b[32m515.2/515.2 kB\u001b[0m \u001b[31m4.8 MB/s\u001b[0m eta \u001b[36m0:00:00\u001b[0m\n",
            "\u001b[?25hDownloading anywidget-0.9.13-py3-none-any.whl (213 kB)\n",
            "\u001b[2K   \u001b[90m━━━━━━━━━━━━━━━━━━━━━━━━━━━━━━━━━━━━━━━━\u001b[0m \u001b[32m213.7/213.7 kB\u001b[0m \u001b[31m14.1 MB/s\u001b[0m eta \u001b[36m0:00:00\u001b[0m\n",
            "\u001b[?25hDownloading geojson-3.2.0-py3-none-any.whl (15 kB)\n",
            "Downloading ipyvuetify-1.10.0-py2.py3-none-any.whl (6.1 MB)\n",
            "\u001b[2K   \u001b[90m━━━━━━━━━━━━━━━━━━━━━━━━━━━━━━━━━━━━━━━━\u001b[0m \u001b[32m6.1/6.1 MB\u001b[0m \u001b[31m48.1 MB/s\u001b[0m eta \u001b[36m0:00:00\u001b[0m\n",
            "\u001b[?25hDownloading pystac_client-0.8.6-py3-none-any.whl (41 kB)\n",
            "\u001b[2K   \u001b[90m━━━━━━━━━━━━━━━━━━━━━━━━━━━━━━━━━━━━━━━━\u001b[0m \u001b[32m41.4/41.4 kB\u001b[0m \u001b[31m2.8 MB/s\u001b[0m eta \u001b[36m0:00:00\u001b[0m\n",
            "\u001b[?25hDownloading whiteboxgui-2.3.0-py2.py3-none-any.whl (108 kB)\n",
            "\u001b[2K   \u001b[90m━━━━━━━━━━━━━━━━━━━━━━━━━━━━━━━━━━━━━━━━\u001b[0m \u001b[32m108.6/108.6 kB\u001b[0m \u001b[31m4.8 MB/s\u001b[0m eta \u001b[36m0:00:00\u001b[0m\n",
            "\u001b[?25hDownloading ipyvue-1.11.2-py2.py3-none-any.whl (2.7 MB)\n",
            "\u001b[2K   \u001b[90m━━━━━━━━━━━━━━━━━━━━━━━━━━━━━━━━━━━━━━━━\u001b[0m \u001b[32m2.7/2.7 MB\u001b[0m \u001b[31m41.5 MB/s\u001b[0m eta \u001b[36m0:00:00\u001b[0m\n",
            "\u001b[?25hDownloading psygnal-0.12.0-cp311-cp311-manylinux_2_17_x86_64.manylinux2014_x86_64.whl (765 kB)\n",
            "\u001b[2K   \u001b[90m━━━━━━━━━━━━━━━━━━━━━━━━━━━━━━━━━━━━━━━━\u001b[0m \u001b[32m765.5/765.5 kB\u001b[0m \u001b[31m37.3 MB/s\u001b[0m eta \u001b[36m0:00:00\u001b[0m\n",
            "\u001b[?25hDownloading pystac-1.12.1-py3-none-any.whl (194 kB)\n",
            "\u001b[2K   \u001b[90m━━━━━━━━━━━━━━━━━━━━━━━━━━━━━━━━━━━━━━━━\u001b[0m \u001b[32m194.2/194.2 kB\u001b[0m \u001b[31m11.4 MB/s\u001b[0m eta \u001b[36m0:00:00\u001b[0m\n",
            "\u001b[?25hDownloading whitebox-2.3.5-py2.py3-none-any.whl (72 kB)\n",
            "\u001b[2K   \u001b[90m━━━━━━━━━━━━━━━━━━━━━━━━━━━━━━━━━━━━━━━━\u001b[0m \u001b[32m72.4/72.4 kB\u001b[0m \u001b[31m5.6 MB/s\u001b[0m eta \u001b[36m0:00:00\u001b[0m\n",
            "\u001b[?25hDownloading jedi-0.19.2-py2.py3-none-any.whl (1.6 MB)\n",
            "\u001b[2K   \u001b[90m━━━━━━━━━━━━━━━━━━━━━━━━━━━━━━━━━━━━━━━━\u001b[0m \u001b[32m1.6/1.6 MB\u001b[0m \u001b[31m36.0 MB/s\u001b[0m eta \u001b[36m0:00:00\u001b[0m\n",
            "\u001b[?25hInstalling collected packages: whitebox, psygnal, jedi, geojson, pystac, pystac-client, ipyvue, anywidget, whiteboxgui, ipyvuetify, leafmap\n",
            "Successfully installed anywidget-0.9.13 geojson-3.2.0 ipyvue-1.11.2 ipyvuetify-1.10.0 jedi-0.19.2 leafmap-0.42.9 psygnal-0.12.0 pystac-1.12.1 pystac-client-0.8.6 whitebox-2.3.5 whiteboxgui-2.3.0\n"
          ]
        }
      ],
      "source": [
        "# %pip install duckdb leafmap\n",
        "\n",
        "%pip install duckdb duckdb-engine jupysql\n",
        "%load_ext sql\n",
        "%config SqlMagic.autopandas = True\n",
        "%config SqlMagic.feedback = False\n",
        "%config SqlMagic.displaycon = False\n",
        "\n",
        "!pip install leafmap\n",
        "import duckdb\n",
        "import leafmap"
      ]
    },
    {
      "cell_type": "code",
      "source": [
        "%config SqlMagic.autopandas = True\n",
        "%config SqlMagic.feedback = False"
      ],
      "metadata": {
        "id": "rq-TNwsvla2c"
      },
      "id": "rq-TNwsvla2c",
      "execution_count": null,
      "outputs": []
    },
    {
      "cell_type": "code",
      "source": [
        "%sql duckdb:///:memory:\n",
        "# %sql duckdb:///path/to/file.db"
      ],
      "metadata": {
        "id": "8OAM3TafldTV"
      },
      "id": "8OAM3TafldTV",
      "execution_count": null,
      "outputs": []
    },
    {
      "cell_type": "code",
      "source": [
        "import os\n",
        "import geopandas as gpd"
      ],
      "metadata": {
        "id": "oGP8xjtUmz6s"
      },
      "id": "oGP8xjtUmz6s",
      "execution_count": null,
      "outputs": []
    },
    {
      "cell_type": "markdown",
      "source": [
        "## Question 1\n",
        "\n",
        "Firslty, please provide the link to your colab notebook in the Moodle quiz using the following steps:\n",
        "\n",
        "1. In the top right corner, click the \"share\" button\n",
        "2. In the popup, click on \"restricted\" and change this to \"anyone with the link\"\n",
        "3. Finally, click \"copy link\", and paste the link into the box for Question 1 on moodle.\n",
        "\n",
        "Once you've done this, download and unzip the data, then create the following tables using the corresponding shapefiles.\n",
        "\n",
        "- nyc_neighborhoods\n",
        "- nyc_census_blocks\n",
        "- nyc_homicides\n",
        "- nyc_streets\n",
        "- nyc_subway_stations\n"
      ],
      "metadata": {
        "id": "3RTXMUd1oX4q"
      },
      "id": "3RTXMUd1oX4q"
    },
    {
      "cell_type": "code",
      "source": [
        "url = \"https://s3.amazonaws.com/s3.cleverelephant.ca/postgis-workshop-2020.zip\"\n",
        "leafmap.download_file(url, unzip=True)"
      ],
      "metadata": {
        "colab": {
          "base_uri": "https://localhost:8080/",
          "height": 53
        },
        "id": "Z0Ymi67mnCyI",
        "outputId": "3046ee3c-04dc-43f4-95a0-e7bb91a12884"
      },
      "id": "Z0Ymi67mnCyI",
      "execution_count": null,
      "outputs": [
        {
          "output_type": "stream",
          "name": "stdout",
          "text": [
            "postgis-workshop-2020.zip already exists. Skip downloading. Set overwrite=True to overwrite.\n"
          ]
        },
        {
          "output_type": "execute_result",
          "data": {
            "text/plain": [
              "'/content/postgis-workshop-2020.zip'"
            ],
            "application/vnd.google.colaboratory.intrinsic+json": {
              "type": "string"
            }
          },
          "metadata": {},
          "execution_count": 10
        }
      ]
    },
    {
      "cell_type": "code",
      "source": [
        "extracted_path = \"postgis-workshop\"  # Assuming the zip extracts here\n",
        "print(os.listdir(extracted_path))"
      ],
      "metadata": {
        "colab": {
          "base_uri": "https://localhost:8080/"
        },
        "id": "60v3ISddnMFq",
        "outputId": "a41f90ee-3b61-48b5-bf36-ffb44ef1ef76"
      },
      "id": "60v3ISddnMFq",
      "execution_count": null,
      "outputs": [
        {
          "output_type": "stream",
          "name": "stdout",
          "text": [
            "['data', 'printing']\n"
          ]
        }
      ]
    },
    {
      "cell_type": "code",
      "source": [
        "# Connect to DuckDB\n",
        "con = duckdb.connect('nyc.db')\n",
        "\n",
        "# Install and load spatial extension\n",
        "con.install_extension('spatial')\n",
        "con.load_extension('spatial')"
      ],
      "metadata": {
        "id": "hJ1grGZbnWcf"
      },
      "id": "hJ1grGZbnWcf",
      "execution_count": null,
      "outputs": []
    },
    {
      "cell_type": "code",
      "source": [
        "con.sql(\"\"\"\n",
        "\n",
        "CREATE TABLE nyc_census_blocks AS SELECT * FROM \"postgis-workshop/data/nyc_census_blocks.shp\";\n",
        "\n",
        "CREATE TABLE nyc_homicides AS SELECT * FROM \"postgis-workshop/data/nyc_homicides.shp\";\n",
        "\n",
        "CREATE TABLE nyc_streets AS SELECT * FROM \"postgis-workshop/data/nyc_streets.shp\";\n",
        "\n",
        "CREATE TABLE nyc_subway_stations AS SELECT * FROM \"postgis-workshop/data/nyc_subway_stations.shp\";\n",
        "\n",
        "\"\"\")"
      ],
      "metadata": {
        "id": "KiBSo4sIn5uC"
      },
      "id": "KiBSo4sIn5uC",
      "execution_count": null,
      "outputs": []
    },
    {
      "cell_type": "code",
      "source": [
        "con.sql(\"\"\"\n",
        "\n",
        "SELECT * FROM nyc_census_blocks;\n",
        "SELECT * FROM nyc_homicides;\n",
        "SELECT * FROM nyc_streets;\n",
        "SELECT * FROM nyc_subway_stations;\n",
        "\n",
        "\"\"\")"
      ],
      "metadata": {
        "colab": {
          "base_uri": "https://localhost:8080/"
        },
        "id": "68fBwVTFoABE",
        "outputId": "c556a2f4-d49d-4d77-9288-0ad457652089"
      },
      "id": "68fBwVTFoABE",
      "execution_count": null,
      "outputs": [
        {
          "output_type": "execute_result",
          "data": {
            "text/plain": [
              "┌──────────┬────────┬───────────────────┬─────────────────┬─────────────────┬─────────────────────────────────────────┬───────────────────────────────────┬───────────┬─────────┬─────────┬───────────┬──────────────┬─────────┬─────────┬──────────────────────────────────────────────┐\n",
              "│ OBJECTID │   ID   │       NAME        │    ALT_NAME     │    CROSS_ST     │                LONG_NAME                │               LABEL               │  BOROUGH  │ NGHBHD  │ ROUTES  │ TRANSFERS │    COLOR     │ EXPRESS │ CLOSED  │                     geom                     │\n",
              "│  double  │ double │      varchar      │     varchar     │     varchar     │                 varchar                 │              varchar              │  varchar  │ varchar │ varchar │  varchar  │   varchar    │ varchar │ varchar │                   geometry                   │\n",
              "├──────────┼────────┼───────────────────┼─────────────────┼─────────────────┼─────────────────────────────────────────┼───────────────────────────────────┼───────────┼─────────┼─────────┼───────────┼──────────────┼─────────┼─────────┼──────────────────────────────────────────────┤\n",
              "│      1.0 │  376.0 │ Cortlandt St      │ NULL            │ Church St       │ Cortlandt St (R,W) Manhattan            │ Cortlandt St (R,W)                │ Manhattan │ NULL    │ R,W     │ R,W       │ YELLOW       │ NULL    │ NULL    │ POINT (583521.854408956 4507077.862599085)   │\n",
              "│      2.0 │    2.0 │ Rector St         │ NULL            │ NULL            │ Rector St (1) Manhattan                 │ Rector St (1)                     │ Manhattan │ NULL    │ 1       │ 1         │ RED          │ NULL    │ NULL    │ POINT (583324.4866324601 4506805.373160211)  │\n",
              "│      3.0 │    1.0 │ South Ferry       │ NULL            │ NULL            │ South Ferry (1) Manhattan               │ South Ferry (1)                   │ Manhattan │ NULL    │ 1       │ 1         │ RED          │ NULL    │ NULL    │ POINT (583304.1823994748 4506069.654048115)  │\n",
              "│      4.0 │  125.0 │ 138th St          │ Grand Concourse │ Grand Concourse │ 138th St / Grand Concourse (4,5) Bronx  │ 138th St / Grand Concourse (4,5)  │ Bronx     │ NULL    │ 4,5     │ 4,5       │ GREEN        │ NULL    │ NULL    │ POINT (590250.10594797 4518558.019924332)    │\n",
              "│      5.0 │  126.0 │ 149th St          │ Grand Concourse │ Grand Concourse │ 149th St / Grand Concourse (4) Bronx    │ 149th St / Grand Concourse (4)    │ Bronx     │ NULL    │ 4       │ 2,4,5     │ GREEN        │ express │ NULL    │ POINT (590454.7399891173 4519145.719617855)  │\n",
              "│      6.0 │   45.0 │ 149th St          │ Grand Concourse │ Grand Concourse │ 149th St / Grand Concourse (2,5) Bronx  │ 149th St / Grand Concourse (2,5)  │ Bronx     │ NULL    │ 2,5     │ 2,4,5     │ RED-GREEN    │ express │ NULL    │ POINT (590465.8934191109 4519168.697483203)  │\n",
              "│      7.0 │  127.0 │ 161st St          │ Yankee Stadium  │ River Ave       │ 161st St / Yankee Stadium (B,D,4) Bronx │ 161st St / Yankee Stadium (B,D,4) │ Bronx     │ NULL    │ B,D,4   │ B,D,4     │ GREEN-ORANGE │ NULL    │ NULL    │ POINT (590573.169495527 4520214.766177284)   │\n",
              "│      8.0 │  208.0 │ 167th St          │ NULL            │ Grand Concourse │ 167th St (B,D) Bronx                    │ 167th St (B,D)                    │ Bronx     │ NULL    │ B,D     │ B,D       │ ORANGE       │ NULL    │ NULL    │ POINT (591252.8314104103 4520950.353355553)  │\n",
              "│      9.0 │  128.0 │ 167th St          │ NULL            │ River Ave       │ 167th St (4) Bronx                      │ 167th St (4)                      │ Bronx     │ NULL    │ 4       │ 4         │ GREEN        │ NULL    │ NULL    │ POINT (590946.3972262995 4521077.318976877)  │\n",
              "│     10.0 │  209.0 │ 170th St          │ NULL            │ Grand Concourse │ 170th St (B,D) Bronx                    │ 170th St (B,D)                    │ Bronx     │ NULL    │ B,D     │ B,D       │ ORANGE       │ NULL    │ NULL    │ POINT (591583.6111452815 4521434.846626811)  │\n",
              "│       ·  │    ·   │    ·              │  ·              │  ·              │          ·                              │       ·                           │   ·       │  ·      │  ·      │  ·        │   ·          │  ·      │  ·      │                      ·                       │\n",
              "│       ·  │    ·   │    ·              │  ·              │  ·              │          ·                              │       ·                           │   ·       │  ·      │  ·      │  ·        │   ·          │  ·      │  ·      │                      ·                       │\n",
              "│       ·  │    ·   │    ·              │  ·              │  ·              │          ·                              │       ·                           │   ·       │  ·      │  ·      │  ·        │   ·          │  ·      │  ·      │                      ·                       │\n",
              "│    482.0 │  904.0 │ JFK Terminal 1    │ NULL            │ NULL            │ JFK Terminal 1, Queens                  │ JFK Terminal 1                    │ Queens    │ NULL    │ NULL    │ NULL      │ AIR-BLUE     │ NULL    │ NULL    │ POINT (602356.9561669775 4499829.669655836)  │\n",
              "│    483.0 │  905.0 │ JFK Terminal 2-3  │ NULL            │ NULL            │ JFK Terminal 2-3, Queens                │ JFK Terminal 2-3                  │ Queens    │ NULL    │ NULL    │ NULL      │ AIR-BLUE     │ NULL    │ NULL    │ POINT (602526.112504933 4499699.646828213)   │\n",
              "│    484.0 │  906.0 │ JFK Terminal 4    │ NULL            │ NULL            │ JFK Terminal 4, Queens                  │ JFK Terminal 4                    │ Queens    │ NULL    │ NULL    │ NULL      │ AIR-BLUE     │ NULL    │ NULL    │ POINT (602985.6731458901 4499897.286220534)  │\n",
              "│    485.0 │  907.0 │ JFK Terminal 5-6  │ NULL            │ NULL            │ JFK Terminal 5-6, Queens                │ JFK Terminal 5-6                  │ Queens    │ NULL    │ NULL    │ NULL      │ AIR-BLUE     │ NULL    │ NULL    │ POINT (603245.7503829238 4500232.851042057)  │\n",
              "│    486.0 │  908.0 │ JFK Terminal 7    │ NULL            │ NULL            │ JFK Terminal 7, Queens                  │ JFK Terminal 7                    │ Queens    │ NULL    │ NULL    │ NULL      │ AIR-BLUE     │ NULL    │ NULL    │ POINT (602880.326628096 4500459.602709553)   │\n",
              "│    487.0 │  909.0 │ JFK Terminal 8    │ NULL            │ NULL            │ JFK Terminal 8, Queens                  │ JFK Terminal 8                    │ Queens    │ NULL    │ NULL    │ NULL      │ AIR-BLUE     │ NULL    │ NULL    │ POINT (602433.3533596311 4500363.8128236225) │\n",
              "│    488.0 │  903.0 │ Federal Circle    │ Rental Car      │ NULL            │ Federal Circle / Rental Car, Queens     │ Federal Circle / Rental Car       │ Queens    │ NULL    │ NULL    │ NULL      │ AIR-BLUE     │ NULL    │ NULL    │ POINT (600903.1428474564 4501689.113908147)  │\n",
              "│    489.0 │  902.0 │ Long Term Parking │ NULL            │ NULL            │ Long Term Parking, Queens               │ Long Term Parking                 │ Queens    │ NULL    │ NULL    │ NULL      │ AIR-BLUE     │ NULL    │ NULL    │ POINT (599552.1129832724 4502056.229470152)  │\n",
              "│    490.0 │  901.0 │ Howard Beach      │ NULL            │ 159th Ave       │ Howard Beach, Queens                    │ Howard Beach                      │ Queens    │ NULL    │ NULL    │ A         │ AIR-BLUE     │ NULL    │ NULL    │ POINT (598862.0205107569 4501868.071868393)  │\n",
              "│    491.0 │  900.0 │ Jamaica           │ Sutphin Blvd    │ Sutphin Blvd    │ Jamaica / Sutphin Blvd, Queens          │ Jamaica / Sutphin Blvd            │ Queens    │ NULL    │ NULL    │ E,J,Z     │ AIR-BLUE     │ NULL    │ NULL    │ POINT (600689.9370847167 4506179.234498333)  │\n",
              "├──────────┴────────┴───────────────────┴─────────────────┴─────────────────┴─────────────────────────────────────────┴───────────────────────────────────┴───────────┴─────────┴─────────┴───────────┴──────────────┴─────────┴─────────┴──────────────────────────────────────────────┤\n",
              "│ 491 rows (20 shown)                                                                                                                                                                                                                                                        15 columns │\n",
              "└───────────────────────────────────────────────────────────────────────────────────────────────────────────────────────────────────────────────────────────────────────────────────────────────────────────────────────────────────────────────────────────────────────────────────────┘"
            ]
          },
          "metadata": {},
          "execution_count": 18
        }
      ]
    },
    {
      "cell_type": "code",
      "source": [
        "con.sql(\"\"\"\n",
        "\n",
        "PRAGMA table_info(nyc_census_blocks);\n",
        "\n",
        "\"\"\")"
      ],
      "metadata": {
        "colab": {
          "base_uri": "https://localhost:8080/"
        },
        "id": "-2Tv_E4GoK9z",
        "outputId": "d75c12aa-e930-4490-b42a-38007e46e884"
      },
      "id": "-2Tv_E4GoK9z",
      "execution_count": null,
      "outputs": [
        {
          "output_type": "execute_result",
          "data": {
            "text/plain": [
              "┌───────┬────────────┬──────────┬─────────┬────────────┬─────────┐\n",
              "│  cid  │    name    │   type   │ notnull │ dflt_value │   pk    │\n",
              "│ int32 │  varchar   │ varchar  │ boolean │  varchar   │ boolean │\n",
              "├───────┼────────────┼──────────┼─────────┼────────────┼─────────┤\n",
              "│     0 │ BLKID      │ VARCHAR  │ false   │ NULL       │ false   │\n",
              "│     1 │ POPN_TOTAL │ BIGINT   │ false   │ NULL       │ false   │\n",
              "│     2 │ POPN_WHITE │ BIGINT   │ false   │ NULL       │ false   │\n",
              "│     3 │ POPN_BLACK │ BIGINT   │ false   │ NULL       │ false   │\n",
              "│     4 │ POPN_NATIV │ BIGINT   │ false   │ NULL       │ false   │\n",
              "│     5 │ POPN_ASIAN │ BIGINT   │ false   │ NULL       │ false   │\n",
              "│     6 │ POPN_OTHER │ BIGINT   │ false   │ NULL       │ false   │\n",
              "│     7 │ BORONAME   │ VARCHAR  │ false   │ NULL       │ false   │\n",
              "│     8 │ geom       │ GEOMETRY │ false   │ NULL       │ false   │\n",
              "└───────┴────────────┴──────────┴─────────┴────────────┴─────────┘"
            ]
          },
          "metadata": {},
          "execution_count": 22
        }
      ]
    },
    {
      "cell_type": "code",
      "source": [
        "con.sql(\"\"\"\n",
        "\n",
        "PRAGMA table_info(nyc_homicides)\n",
        "\n",
        "\"\"\")"
      ],
      "metadata": {
        "colab": {
          "base_uri": "https://localhost:8080/"
        },
        "id": "YUh5rReJoqa1",
        "outputId": "f5472047-15e5-46cf-ddb5-ee9ae62c2e68"
      },
      "id": "YUh5rReJoqa1",
      "execution_count": null,
      "outputs": [
        {
          "output_type": "execute_result",
          "data": {
            "text/plain": [
              "┌───────┬────────────┬──────────┬─────────┬────────────┬─────────┐\n",
              "│  cid  │    name    │   type   │ notnull │ dflt_value │   pk    │\n",
              "│ int32 │  varchar   │ varchar  │ boolean │  varchar   │ boolean │\n",
              "├───────┼────────────┼──────────┼─────────┼────────────┼─────────┤\n",
              "│     0 │ INCIDENT_D │ DATE     │ false   │ NULL       │ false   │\n",
              "│     1 │ BORONAME   │ VARCHAR  │ false   │ NULL       │ false   │\n",
              "│     2 │ NUM_VICTIM │ VARCHAR  │ false   │ NULL       │ false   │\n",
              "│     3 │ PRIMARY_MO │ VARCHAR  │ false   │ NULL       │ false   │\n",
              "│     4 │ ID         │ BIGINT   │ false   │ NULL       │ false   │\n",
              "│     5 │ WEAPON     │ VARCHAR  │ false   │ NULL       │ false   │\n",
              "│     6 │ LIGHT_DARK │ VARCHAR  │ false   │ NULL       │ false   │\n",
              "│     7 │ YEAR       │ BIGINT   │ false   │ NULL       │ false   │\n",
              "│     8 │ geom       │ GEOMETRY │ false   │ NULL       │ false   │\n",
              "└───────┴────────────┴──────────┴─────────┴────────────┴─────────┘"
            ]
          },
          "metadata": {},
          "execution_count": 23
        }
      ]
    },
    {
      "cell_type": "code",
      "source": [
        "con.sql(\"\"\"\n",
        "\n",
        "PRAGMA table_info(nyc_streets);\n",
        "\n",
        "\"\"\")"
      ],
      "metadata": {
        "colab": {
          "base_uri": "https://localhost:8080/"
        },
        "id": "7M2DmdTfotDr",
        "outputId": "b7a6b90e-260f-44a2-a7d7-a28981f3f1e0"
      },
      "id": "7M2DmdTfotDr",
      "execution_count": null,
      "outputs": [
        {
          "output_type": "execute_result",
          "data": {
            "text/plain": [
              "┌───────┬─────────┬──────────┬─────────┬────────────┬─────────┐\n",
              "│  cid  │  name   │   type   │ notnull │ dflt_value │   pk    │\n",
              "│ int32 │ varchar │ varchar  │ boolean │  varchar   │ boolean │\n",
              "├───────┼─────────┼──────────┼─────────┼────────────┼─────────┤\n",
              "│     0 │ ID      │ BIGINT   │ false   │ NULL       │ false   │\n",
              "│     1 │ NAME    │ VARCHAR  │ false   │ NULL       │ false   │\n",
              "│     2 │ ONEWAY  │ VARCHAR  │ false   │ NULL       │ false   │\n",
              "│     3 │ TYPE    │ VARCHAR  │ false   │ NULL       │ false   │\n",
              "│     4 │ geom    │ GEOMETRY │ false   │ NULL       │ false   │\n",
              "└───────┴─────────┴──────────┴─────────┴────────────┴─────────┘"
            ]
          },
          "metadata": {},
          "execution_count": 24
        }
      ]
    },
    {
      "cell_type": "code",
      "source": [
        "con.sql(\"\"\"\n",
        "\n",
        "PRAGMA table_info(nyc_subway_stations);\n",
        "\n",
        "\"\"\")"
      ],
      "metadata": {
        "colab": {
          "base_uri": "https://localhost:8080/"
        },
        "id": "F6dek3nsovRS",
        "outputId": "b8b86bcc-c838-4fd0-ff01-623d7b01c31e"
      },
      "id": "F6dek3nsovRS",
      "execution_count": null,
      "outputs": [
        {
          "output_type": "execute_result",
          "data": {
            "text/plain": [
              "┌───────┬───────────┬──────────┬─────────┬────────────┬─────────┐\n",
              "│  cid  │   name    │   type   │ notnull │ dflt_value │   pk    │\n",
              "│ int32 │  varchar  │ varchar  │ boolean │  varchar   │ boolean │\n",
              "├───────┼───────────┼──────────┼─────────┼────────────┼─────────┤\n",
              "│     0 │ OBJECTID  │ DOUBLE   │ false   │ NULL       │ false   │\n",
              "│     1 │ ID        │ DOUBLE   │ false   │ NULL       │ false   │\n",
              "│     2 │ NAME      │ VARCHAR  │ false   │ NULL       │ false   │\n",
              "│     3 │ ALT_NAME  │ VARCHAR  │ false   │ NULL       │ false   │\n",
              "│     4 │ CROSS_ST  │ VARCHAR  │ false   │ NULL       │ false   │\n",
              "│     5 │ LONG_NAME │ VARCHAR  │ false   │ NULL       │ false   │\n",
              "│     6 │ LABEL     │ VARCHAR  │ false   │ NULL       │ false   │\n",
              "│     7 │ BOROUGH   │ VARCHAR  │ false   │ NULL       │ false   │\n",
              "│     8 │ NGHBHD    │ VARCHAR  │ false   │ NULL       │ false   │\n",
              "│     9 │ ROUTES    │ VARCHAR  │ false   │ NULL       │ false   │\n",
              "│    10 │ TRANSFERS │ VARCHAR  │ false   │ NULL       │ false   │\n",
              "│    11 │ COLOR     │ VARCHAR  │ false   │ NULL       │ false   │\n",
              "│    12 │ EXPRESS   │ VARCHAR  │ false   │ NULL       │ false   │\n",
              "│    13 │ CLOSED    │ VARCHAR  │ false   │ NULL       │ false   │\n",
              "│    14 │ geom      │ GEOMETRY │ false   │ NULL       │ false   │\n",
              "├───────┴───────────┴──────────┴─────────┴────────────┴─────────┤\n",
              "│ 15 rows                                             6 columns │\n",
              "└───────────────────────────────────────────────────────────────┘"
            ]
          },
          "metadata": {},
          "execution_count": 25
        }
      ]
    },
    {
      "cell_type": "markdown",
      "id": "cNYR7ht61yGV",
      "metadata": {
        "id": "cNYR7ht61yGV"
      },
      "source": [
        "## Question 2:\n",
        "What is the longest street in New York? Note, it may be split up into multiple segments! Ignore missing and null values.\n"
      ]
    },
    {
      "cell_type": "code",
      "execution_count": null,
      "id": "h95FJaaD1yGV",
      "metadata": {
        "id": "h95FJaaD1yGV",
        "colab": {
          "base_uri": "https://localhost:8080/"
        },
        "outputId": "b7ea6cff-b815-4b0c-9096-2c57944f5da6"
      },
      "outputs": [
        {
          "output_type": "execute_result",
          "data": {
            "text/plain": [
              "┌─────────────────┐\n",
              "│      NAME       │\n",
              "│     varchar     │\n",
              "├─────────────────┤\n",
              "│ Leif Ericson Dr │\n",
              "└─────────────────┘"
            ]
          },
          "metadata": {},
          "execution_count": 26
        }
      ],
      "source": [
        "con.sql(\"\"\"\n",
        "\n",
        "SELECT name\n",
        "FROM nyc_streets\n",
        "ORDER BY ST_LENGTH(geom) DESC LIMIT 1;\n",
        "\n",
        "\"\"\")"
      ]
    },
    {
      "cell_type": "code",
      "source": [
        "con.sql(\"\"\"\n",
        "    SELECT name, SUM(ST_LENGTH(geom)) AS total_length\n",
        "    FROM nyc_streets\n",
        "    WHERE name IS NOT NULL  -- Ignore missing values\n",
        "    GROUP BY name\n",
        "    ORDER BY total_length DESC\n",
        "    LIMIT 1;\n",
        "\"\"\")\n"
      ],
      "metadata": {
        "colab": {
          "base_uri": "https://localhost:8080/"
        },
        "id": "z3kL71-eqVJd",
        "outputId": "ae9c7529-c9a4-4983-bef0-272b406d2759"
      },
      "id": "z3kL71-eqVJd",
      "execution_count": null,
      "outputs": [
        {
          "output_type": "execute_result",
          "data": {
            "text/plain": [
              "┌───────────────────┬────────────────────┐\n",
              "│       NAME        │    total_length    │\n",
              "│      varchar      │       double       │\n",
              "├───────────────────┼────────────────────┤\n",
              "│ Grand Central Pky │ 40210.484038252165 │\n",
              "└───────────────────┴────────────────────┘"
            ]
          },
          "metadata": {},
          "execution_count": 27
        }
      ]
    },
    {
      "cell_type": "markdown",
      "id": "BfjA1rkU1yGV",
      "metadata": {
        "id": "BfjA1rkU1yGV"
      },
      "source": [
        "## Question 3:\n",
        "\n",
        "Which borough had the fewest daytime shootings in 2009?"
      ]
    },
    {
      "cell_type": "code",
      "execution_count": null,
      "id": "OMu1B0Nq1yGV",
      "metadata": {
        "id": "OMu1B0Nq1yGV",
        "colab": {
          "base_uri": "https://localhost:8080/"
        },
        "outputId": "1c292f94-8f61-492b-faab-8dd5e0c01c65"
      },
      "outputs": [
        {
          "output_type": "execute_result",
          "data": {
            "text/plain": [
              "┌───────────────┐\n",
              "│   BORONAME    │\n",
              "│    varchar    │\n",
              "├───────────────┤\n",
              "│ Staten Island │\n",
              "└───────────────┘"
            ]
          },
          "metadata": {},
          "execution_count": 29
        }
      ],
      "source": [
        "con.sql(\"\"\"\n",
        "\n",
        "SELECT DISTINCT boroname\n",
        "FROM nyc_homicides\n",
        "WHERE year = '2009'\n",
        "GROUP BY boroname\n",
        "ORDER BY count(*) ASC LIMIT 1;\n",
        "\n",
        "\"\"\")"
      ]
    },
    {
      "cell_type": "code",
      "source": [
        "con.sql(\"\"\"\n",
        "    SELECT boroname, COUNT(*) AS shooting_count\n",
        "    FROM nyc_homicides\n",
        "    WHERE year = 2009\n",
        "    GROUP BY boroname\n",
        "    ORDER BY shooting_count ASC\n",
        "    LIMIT 1;\n",
        "\"\"\")"
      ],
      "metadata": {
        "colab": {
          "base_uri": "https://localhost:8080/"
        },
        "id": "F4lo2VVmrPic",
        "outputId": "50182deb-11f6-4d11-cb8e-07bc7a4c6ffe"
      },
      "id": "F4lo2VVmrPic",
      "execution_count": null,
      "outputs": [
        {
          "output_type": "execute_result",
          "data": {
            "text/plain": [
              "┌───────────────┬────────────────┐\n",
              "│   BORONAME    │ shooting_count │\n",
              "│    varchar    │     int64      │\n",
              "├───────────────┼────────────────┤\n",
              "│ Staten Island │             14 │\n",
              "└───────────────┴────────────────┘"
            ]
          },
          "metadata": {},
          "execution_count": 30
        }
      ]
    },
    {
      "cell_type": "markdown",
      "id": "ayFuut_v8DIJ",
      "metadata": {
        "id": "ayFuut_v8DIJ"
      },
      "source": [
        "## Question 4:\n",
        "\n",
        "What is the total population of the census blocks served by the L train?"
      ]
    },
    {
      "cell_type": "code",
      "execution_count": null,
      "id": "V8JPo3Ab1yGV",
      "metadata": {
        "id": "V8JPo3Ab1yGV",
        "colab": {
          "base_uri": "https://localhost:8080/"
        },
        "outputId": "b635b44a-492b-4b88-ef24-78ef7b523ed1"
      },
      "outputs": [
        {
          "output_type": "execute_result",
          "data": {
            "text/plain": [
              "┌───────────┐\n",
              "│  ROUTES   │\n",
              "│  varchar  │\n",
              "├───────────┤\n",
              "│ L         │\n",
              "│ A,C,E,L   │\n",
              "│ L,N,Q,R,W │\n",
              "│ F,L,V     │\n",
              "└───────────┘"
            ]
          },
          "metadata": {},
          "execution_count": 31
        }
      ],
      "source": [
        "con.sql(\"\"\"\n",
        "\n",
        "SELECT DISTINCT routes\n",
        "FROM nyc_subway_stations AS subway\n",
        "WHERE strpos (subway.routes,'L')>0;\n",
        "\n",
        "\"\"\")"
      ]
    },
    {
      "cell_type": "code",
      "source": [
        "con.sql(\"\"\"\n",
        "\n",
        "    SELECT SUM(c.popn_total) AS total_population\n",
        "    FROM nyc_census_blocks AS c\n",
        "    JOIN nyc_subway_stations AS s\n",
        "    ON ST_Intersects(c.geom, s.geom)  -- Changed from ST_Within\n",
        "    WHERE s.routes LIKE '%L%';  -- Improved filtering\n",
        "\n",
        "\"\"\")\n"
      ],
      "metadata": {
        "colab": {
          "base_uri": "https://localhost:8080/"
        },
        "id": "lmxZXCbCshxu",
        "outputId": "a2527f91-078d-4b6f-d347-6b16251b9f3c"
      },
      "id": "lmxZXCbCshxu",
      "execution_count": null,
      "outputs": [
        {
          "output_type": "execute_result",
          "data": {
            "text/plain": [
              "┌──────────────────┐\n",
              "│ total_population │\n",
              "│      int128      │\n",
              "├──────────────────┤\n",
              "│             7147 │\n",
              "└──────────────────┘"
            ]
          },
          "metadata": {},
          "execution_count": 34
        }
      ]
    },
    {
      "cell_type": "markdown",
      "id": "bI-t4ks380wI",
      "metadata": {
        "id": "bI-t4ks380wI"
      },
      "source": [
        "## Question 5\n",
        "\n",
        "which subway station had the largest number of homicides within 1km?"
      ]
    },
    {
      "cell_type": "code",
      "execution_count": null,
      "id": "uOsz1fQO9PIf",
      "metadata": {
        "id": "uOsz1fQO9PIf",
        "colab": {
          "base_uri": "https://localhost:8080/"
        },
        "outputId": "51db98a6-cb6f-44f3-9c55-c0f00930a5d7"
      },
      "outputs": [
        {
          "output_type": "execute_result",
          "data": {
            "text/plain": [
              "┌──────────┬───────────┐\n",
              "│   NAME   │ homicides │\n",
              "│ varchar  │   int64   │\n",
              "├──────────┼───────────┤\n",
              "│ 125th St │       305 │\n",
              "└──────────┴───────────┘"
            ]
          },
          "metadata": {},
          "execution_count": 35
        }
      ],
      "source": [
        "con.sql(\"\"\"\n",
        "\n",
        "    SELECT s.name, COUNT(*) AS homicides\n",
        "    FROM nyc_subway_stations AS s\n",
        "    JOIN nyc_homicides AS h\n",
        "    ON ST_DWithin(s.geom, h.geom, 1000)\n",
        "    GROUP BY s.name\n",
        "    ORDER BY homicides DESC\n",
        "    LIMIT 1;\n",
        "\n",
        "\"\"\")\n"
      ]
    },
    {
      "cell_type": "markdown",
      "id": "zBfMLOCVBuqP",
      "metadata": {
        "id": "zBfMLOCVBuqP"
      },
      "source": [
        "# Section 2\n",
        "\n",
        "This section explores building damage in the Gaza Strip resulting from the ongoing war. You will conduct a geospatial analysis of building damage using two datasets:\n",
        "\n",
        "1. [Humantiarian Open Street Map](https://www.hotosm.org/projects/gaza-building-footprints-pre-conflict-update-2024/) building footprints for the Gaza Strip\n",
        "  * data: https://storage.googleapis.com/qm2/Gaza_Buildings_2.geojson.zip\n",
        "2. [Damage points](https://unosat.org/products/3984) from the UN Satellite Agency (UNOSAT).\n",
        "  * data: https://storage.googleapis.com/qm2/UNOSAT_GAZA_20240503_2.zip\n",
        "\n",
        "\n",
        "The Coordinate Reference System of these datasets is EPSG:4326; therefore, stock functions like ST_DISTANCE() will yield values in degrees, not meters. Be mindful of this in your analysis, and use the DuckDB spatial functions [documentation](https://duckdb.org/docs/extensions/spatial/functions#st_geomfromtext) to your advantage.\n",
        "\n",
        "\n",
        "First, download and unzip the data, and create two tables: `gaza_buildings`, containing the building footprint data, and `damage_points` containing the UNOSAT damage points. Make sure to set a spatial index on these tables, this will make your queries run much faster!"
      ]
    },
    {
      "cell_type": "code",
      "source": [
        "url = \"https://storage.googleapis.com/qm2/Gaza_Buildings_2.geojson.zip\"\n",
        "leafmap.download_file(url, unzip=True)"
      ],
      "metadata": {
        "colab": {
          "base_uri": "https://localhost:8080/",
          "height": 53
        },
        "id": "vpRHq8NjwIu5",
        "outputId": "c6776521-2847-45f2-b11f-6e2e100ff903"
      },
      "id": "vpRHq8NjwIu5",
      "execution_count": null,
      "outputs": [
        {
          "output_type": "stream",
          "name": "stdout",
          "text": [
            "Gaza_Buildings_2.geojson.zip already exists. Skip downloading. Set overwrite=True to overwrite.\n"
          ]
        },
        {
          "output_type": "execute_result",
          "data": {
            "text/plain": [
              "'/content/Gaza_Buildings_2.geojson.zip'"
            ],
            "application/vnd.google.colaboratory.intrinsic+json": {
              "type": "string"
            }
          },
          "metadata": {},
          "execution_count": 68
        }
      ]
    },
    {
      "cell_type": "code",
      "source": [
        "# Step 2: Verify extracted files (should be a file, not a folder)\n",
        "geojson_file = \"Gaza_Buildings_2.geojson\""
      ],
      "metadata": {
        "id": "atcoCye2xUtY"
      },
      "id": "atcoCye2xUtY",
      "execution_count": null,
      "outputs": []
    },
    {
      "cell_type": "code",
      "source": [
        "if os.path.exists(geojson_file):\n",
        "    print(f\"Extracted file found: {geojson_file}\")\n",
        "else:\n",
        "    raise FileNotFoundError(f\"Expected file {geojson_file} not found!\")"
      ],
      "metadata": {
        "colab": {
          "base_uri": "https://localhost:8080/"
        },
        "id": "_AS53QcfxWls",
        "outputId": "85ba80d8-0a6b-442e-ff88-f98583536bbf"
      },
      "id": "_AS53QcfxWls",
      "execution_count": null,
      "outputs": [
        {
          "output_type": "stream",
          "name": "stdout",
          "text": [
            "Extracted file found: Gaza_Buildings_2.geojson\n"
          ]
        }
      ]
    },
    {
      "cell_type": "code",
      "source": [
        "# Step 3: Connect to DuckDB\n",
        "con = duckdb.connect('buildings.db')"
      ],
      "metadata": {
        "id": "EB9yzhq7xrvD"
      },
      "id": "EB9yzhq7xrvD",
      "execution_count": null,
      "outputs": []
    },
    {
      "cell_type": "code",
      "source": [
        "con.install_extension('spatial')\n",
        "con.load_extension('spatial')"
      ],
      "metadata": {
        "id": "jwEE6DXdx8Tu"
      },
      "id": "jwEE6DXdx8Tu",
      "execution_count": null,
      "outputs": []
    },
    {
      "cell_type": "code",
      "source": [
        "con.sql(\"\"\"\n",
        "\n",
        "CREATE TABLE gaza_buildings AS\n",
        "SELECT *\n",
        "FROM ST_Read('Gaza_Buildings_2.geojson');\n",
        "\n",
        "CREATE INDEX gaza_buildings_geometry_idx\n",
        "ON gaza_buildings\n",
        "USING RTREE(geom);\n",
        "\n",
        "\"\"\")"
      ],
      "metadata": {
        "colab": {
          "base_uri": "https://localhost:8080/",
          "height": 216
        },
        "id": "61AQBTscyk4u",
        "outputId": "2fe813ac-ea57-4588-d7d1-90abb72df3a4"
      },
      "id": "61AQBTscyk4u",
      "execution_count": null,
      "outputs": [
        {
          "output_type": "error",
          "ename": "CatalogException",
          "evalue": "Catalog Error: Table with name \"gaza_buildings\" already exists!",
          "traceback": [
            "\u001b[0;31m---------------------------------------------------------------------------\u001b[0m",
            "\u001b[0;31mCatalogException\u001b[0m                          Traceback (most recent call last)",
            "\u001b[0;32m<ipython-input-73-c5b62a9c5cbe>\u001b[0m in \u001b[0;36m<cell line: 0>\u001b[0;34m()\u001b[0m\n\u001b[0;32m----> 1\u001b[0;31m con.sql(\"\"\"\n\u001b[0m\u001b[1;32m      2\u001b[0m \u001b[0;34m\u001b[0m\u001b[0m\n\u001b[1;32m      3\u001b[0m \u001b[0mCREATE\u001b[0m \u001b[0mTABLE\u001b[0m \u001b[0mgaza_buildings\u001b[0m \u001b[0mAS\u001b[0m\u001b[0;34m\u001b[0m\u001b[0;34m\u001b[0m\u001b[0m\n\u001b[1;32m      4\u001b[0m \u001b[0mSELECT\u001b[0m \u001b[0;34m*\u001b[0m\u001b[0;34m\u001b[0m\u001b[0;34m\u001b[0m\u001b[0m\n\u001b[1;32m      5\u001b[0m \u001b[0mFROM\u001b[0m \u001b[0mST_Read\u001b[0m\u001b[0;34m(\u001b[0m\u001b[0;34m'Gaza_Buildings_2.geojson'\u001b[0m\u001b[0;34m)\u001b[0m\u001b[0;34m;\u001b[0m\u001b[0;34m\u001b[0m\u001b[0;34m\u001b[0m\u001b[0m\n",
            "\u001b[0;31mCatalogException\u001b[0m: Catalog Error: Table with name \"gaza_buildings\" already exists!"
          ]
        }
      ]
    },
    {
      "cell_type": "code",
      "source": [
        "con.sql('SHOW TABLES')"
      ],
      "metadata": {
        "colab": {
          "base_uri": "https://localhost:8080/"
        },
        "id": "JwG0TzlT3JuT",
        "outputId": "779b4198-f428-4103-8d5b-b70f338051e6"
      },
      "id": "JwG0TzlT3JuT",
      "execution_count": null,
      "outputs": [
        {
          "output_type": "execute_result",
          "data": {
            "text/plain": [
              "┌────────────────┐\n",
              "│      name      │\n",
              "│    varchar     │\n",
              "├────────────────┤\n",
              "│ gaza_buildings │\n",
              "└────────────────┘"
            ]
          },
          "metadata": {},
          "execution_count": 74
        }
      ]
    },
    {
      "cell_type": "code",
      "source": [
        "con.sql(\"\"\"\n",
        "\n",
        "PRAGMA table_info(gaza_buildings);\n",
        "\n",
        "\"\"\")"
      ],
      "metadata": {
        "colab": {
          "base_uri": "https://localhost:8080/"
        },
        "id": "W5mOCh_wz1zI",
        "outputId": "c86dc889-1873-4876-ba5a-e35d609c0dd4"
      },
      "id": "W5mOCh_wz1zI",
      "execution_count": null,
      "outputs": [
        {
          "output_type": "execute_result",
          "data": {
            "text/plain": [
              "┌───────┬──────────┬──────────┬─────────┬────────────┬─────────┐\n",
              "│  cid  │   name   │   type   │ notnull │ dflt_value │   pk    │\n",
              "│ int32 │ varchar  │ varchar  │ boolean │  varchar   │ boolean │\n",
              "├───────┼──────────┼──────────┼─────────┼────────────┼─────────┤\n",
              "│     0 │ osm_id   │ INTEGER  │ false   │ NULL       │ false   │\n",
              "│     1 │ osm_type │ VARCHAR  │ false   │ NULL       │ false   │\n",
              "│     2 │ building │ VARCHAR  │ false   │ NULL       │ false   │\n",
              "│     3 │ name     │ VARCHAR  │ false   │ NULL       │ false   │\n",
              "│     4 │ geom     │ GEOMETRY │ false   │ NULL       │ false   │\n",
              "└───────┴──────────┴──────────┴─────────┴────────────┴─────────┘"
            ]
          },
          "metadata": {},
          "execution_count": 75
        }
      ]
    },
    {
      "cell_type": "code",
      "source": [
        "url = \"https://storage.googleapis.com/qm2/UNOSAT_GAZA_20240503_2.zip\"\n",
        "leafmap.download_file(url, unzip=True)\n"
      ],
      "metadata": {
        "colab": {
          "base_uri": "https://localhost:8080/",
          "height": 53
        },
        "id": "t34VsegZ0wQC",
        "outputId": "c19160af-f4dc-4a56-ce93-4aeb19b01467"
      },
      "id": "t34VsegZ0wQC",
      "execution_count": null,
      "outputs": [
        {
          "output_type": "stream",
          "name": "stdout",
          "text": [
            "UNOSAT_GAZA_20240503_2.zip already exists. Skip downloading. Set overwrite=True to overwrite.\n"
          ]
        },
        {
          "output_type": "execute_result",
          "data": {
            "text/plain": [
              "'/content/UNOSAT_GAZA_20240503_2.zip'"
            ],
            "application/vnd.google.colaboratory.intrinsic+json": {
              "type": "string"
            }
          },
          "metadata": {},
          "execution_count": 76
        }
      ]
    },
    {
      "cell_type": "code",
      "source": [
        "# Step 2: Verify extracted files (should be a file, not a folder)\n",
        "shape_file = \"UNOSAT_GAZA_20240503_2.shp\""
      ],
      "metadata": {
        "id": "-z4clJXg00P6"
      },
      "id": "-z4clJXg00P6",
      "execution_count": null,
      "outputs": []
    },
    {
      "cell_type": "code",
      "source": [
        "if os.path.exists(shape_file):\n",
        "    print(f\"Extracted file found: {shape_file}\")\n",
        "else:\n",
        "    raise FileNotFoundError(f\"Expected file {shape_file} not found!\")"
      ],
      "metadata": {
        "colab": {
          "base_uri": "https://localhost:8080/"
        },
        "id": "QCwOOUPW04LD",
        "outputId": "eabee910-41cd-484e-db2c-6af8edbdf297"
      },
      "id": "QCwOOUPW04LD",
      "execution_count": null,
      "outputs": [
        {
          "output_type": "stream",
          "name": "stdout",
          "text": [
            "Extracted file found: UNOSAT_GAZA_20240503_2.shp\n"
          ]
        }
      ]
    },
    {
      "cell_type": "code",
      "source": [
        "# Step 4: Install and load the spatial extension\n",
        "con.install_extension('spatial')\n",
        "con.load_extension('spatial')"
      ],
      "metadata": {
        "id": "iDhbf8pp09GE"
      },
      "id": "iDhbf8pp09GE",
      "execution_count": null,
      "outputs": []
    },
    {
      "cell_type": "code",
      "source": [
        "# Step 5: Create the table and spatial index\n",
        "con.sql(\"\"\"\n",
        "CREATE TABLE damage_points AS\n",
        "SELECT *\n",
        "FROM ST_Read('UNOSAT_GAZA_20240503_2.shp');\n",
        "\n",
        "CREATE INDEX damage_points_geometry_idx\n",
        "ON damage_points\n",
        "USING RTREE(geom);\n",
        "\"\"\")"
      ],
      "metadata": {
        "colab": {
          "base_uri": "https://localhost:8080/",
          "height": 49,
          "referenced_widgets": [
            "fee92b26e97f4daf97eaecc01c4b5f16",
            "a165e5782d1a497e990a7b3ff7875b4a",
            "946700a0b6324fedb64294aa8dbd4f74"
          ]
        },
        "id": "tNah6e3Q1Aji",
        "outputId": "e706e4b1-4a28-469a-afe2-08b8efdbea84"
      },
      "id": "tNah6e3Q1Aji",
      "execution_count": null,
      "outputs": [
        {
          "output_type": "display_data",
          "data": {
            "text/plain": [
              "FloatProgress(value=0.0, layout=Layout(width='auto'), style=ProgressStyle(bar_color='black'))"
            ],
            "application/vnd.jupyter.widget-view+json": {
              "version_major": 2,
              "version_minor": 0,
              "model_id": "fee92b26e97f4daf97eaecc01c4b5f16"
            }
          },
          "metadata": {
            "application/vnd.jupyter.widget-view+json": {
              "colab": {
                "custom_widget_manager": {
                  "url": "https://ssl.gstatic.com/colaboratory-static/widgets/colab-cdn-widget-manager/2b70e893a8ba7c0f/manager.min.js"
                }
              }
            }
          }
        }
      ]
    },
    {
      "cell_type": "code",
      "source": [
        "con.sql('SHOW TABLES')"
      ],
      "metadata": {
        "colab": {
          "base_uri": "https://localhost:8080/"
        },
        "id": "_49X7pUc1Eul",
        "outputId": "ac101217-3115-4e79-fdfa-75d03770621f"
      },
      "id": "_49X7pUc1Eul",
      "execution_count": null,
      "outputs": [
        {
          "output_type": "execute_result",
          "data": {
            "text/plain": [
              "┌────────────────┐\n",
              "│      name      │\n",
              "│    varchar     │\n",
              "├────────────────┤\n",
              "│ damage_points  │\n",
              "│ gaza_buildings │\n",
              "└────────────────┘"
            ]
          },
          "metadata": {},
          "execution_count": 81
        }
      ]
    },
    {
      "cell_type": "markdown",
      "id": "R91M8AllIBHG",
      "metadata": {
        "id": "R91M8AllIBHG"
      },
      "source": [
        "## Question 6\n",
        "\n",
        "Create a table called \"gaza_buildings_damaged\" which is comprised only of building footprints that intersect with a UNOSAT damage point. How many damaged buildings are there in Gaza?"
      ]
    },
    {
      "cell_type": "code",
      "execution_count": null,
      "id": "B5mc7JSMCnbs",
      "metadata": {
        "id": "B5mc7JSMCnbs",
        "colab": {
          "base_uri": "https://localhost:8080/",
          "height": 49,
          "referenced_widgets": [
            "55e3387e2cd143e1b5ac4ce9670634e4",
            "79648d429785465892e8c68ced3cc8fd",
            "5ef2cceb5aa04a59b00be9395f0b41c1"
          ]
        },
        "outputId": "d74ab7a7-ddf3-4dc5-d929-44cefcd0cb79"
      },
      "outputs": [
        {
          "output_type": "display_data",
          "data": {
            "text/plain": [
              "FloatProgress(value=0.0, layout=Layout(width='auto'), style=ProgressStyle(bar_color='black'))"
            ],
            "application/vnd.jupyter.widget-view+json": {
              "version_major": 2,
              "version_minor": 0,
              "model_id": "55e3387e2cd143e1b5ac4ce9670634e4"
            }
          },
          "metadata": {
            "application/vnd.jupyter.widget-view+json": {
              "colab": {
                "custom_widget_manager": {
                  "url": "https://ssl.gstatic.com/colaboratory-static/widgets/colab-cdn-widget-manager/2b70e893a8ba7c0f/manager.min.js"
                }
              }
            }
          }
        }
      ],
      "source": [
        "con.sql(\"\"\"\n",
        "\n",
        "CREATE TABLE gaza_buildings_damaged AS\n",
        "SELECT g.*\n",
        "FROM gaza_buildings g\n",
        "JOIN damage_points d\n",
        "ON ST_Intersects(g.geom, d.geom);\n",
        "\n",
        "\"\"\")"
      ]
    },
    {
      "cell_type": "code",
      "source": [
        "con.sql(\"\"\"\n",
        "\n",
        "CREATE INDEX gaza_buildings_damaged_geom_idx\n",
        "ON gaza_buildings_damaged\n",
        "USING RTREE(geom);\n",
        "\n",
        "\"\"\")\n"
      ],
      "metadata": {
        "id": "ZmVZokhM2TZF"
      },
      "id": "ZmVZokhM2TZF",
      "execution_count": null,
      "outputs": []
    },
    {
      "cell_type": "code",
      "source": [
        "# Step 4: Count the number of damaged buildings\n",
        "result = con.sql(\"SELECT COUNT(*) AS damaged_buildings_count FROM gaza_buildings_damaged\").fetchone()\n",
        "damaged_buildings_count = result[0]\n",
        "print(f\"Number of damaged buildings in Gaza: {damaged_buildings_count}\")"
      ],
      "metadata": {
        "colab": {
          "base_uri": "https://localhost:8080/"
        },
        "id": "d8cGck4x3tA-",
        "outputId": "eb662a12-8d20-4f96-b871-054c8aa3a635"
      },
      "id": "d8cGck4x3tA-",
      "execution_count": null,
      "outputs": [
        {
          "output_type": "stream",
          "name": "stdout",
          "text": [
            "Number of damaged buildings in Gaza: 109495\n"
          ]
        }
      ]
    },
    {
      "cell_type": "markdown",
      "id": "ErOTse1wxPcC",
      "metadata": {
        "id": "ErOTse1wxPcC"
      },
      "source": [
        "## Question 7\n",
        "\n",
        "What is the total area (in square kilometers) of damaged buildings in Gaza? note: there are TWO area functions in duckDB, and only one of them returns answers in meters."
      ]
    },
    {
      "cell_type": "code",
      "source": [
        "con.sql(\"\"\"\n",
        "    SELECT SUM(ST_Area(ST_Transform(geom, 'EPSG:4326', 'EPSG:3395'))) / 1e6 AS total_area_sq_km\n",
        "    FROM gaza_buildings_damaged;\n",
        "\"\"\")\n"
      ],
      "metadata": {
        "colab": {
          "base_uri": "https://localhost:8080/"
        },
        "id": "Y3pa4tCR9UVP",
        "outputId": "3c22874d-f068-46c7-fb03-30c4ec095d41"
      },
      "id": "Y3pa4tCR9UVP",
      "execution_count": null,
      "outputs": [
        {
          "output_type": "execute_result",
          "data": {
            "text/plain": [
              "┌───────────────────┐\n",
              "│ total_area_sq_km  │\n",
              "│      double       │\n",
              "├───────────────────┤\n",
              "│ 33.09505589004237 │\n",
              "└───────────────────┘"
            ]
          },
          "metadata": {},
          "execution_count": 99
        }
      ]
    },
    {
      "cell_type": "markdown",
      "id": "R4R_j5w2Jk6w",
      "metadata": {
        "id": "R4R_j5w2Jk6w"
      },
      "source": [
        "## Question 8\n",
        "\n",
        "What percentage of hospitals in Gaza have been damaged?\n"
      ]
    },
    {
      "cell_type": "code",
      "execution_count": null,
      "id": "EPhpQNI7GGAI",
      "metadata": {
        "id": "EPhpQNI7GGAI",
        "colab": {
          "base_uri": "https://localhost:8080/"
        },
        "outputId": "f2447250-6138-4bce-ce2b-d34758799fe6"
      },
      "outputs": [
        {
          "output_type": "execute_result",
          "data": {
            "text/plain": [
              "┌─────────────────────────────┐\n",
              "│ damaged_hospital_percentage │\n",
              "│           double            │\n",
              "├─────────────────────────────┤\n",
              "│                       100.0 │\n",
              "└─────────────────────────────┘"
            ]
          },
          "metadata": {},
          "execution_count": 93
        }
      ],
      "source": [
        "con.sql(\"\"\"\n",
        "    SELECT\n",
        "        100.0 * COUNT(bld.geom) / SUM(COUNT(bld.geom)) OVER () AS damaged_hospital_percentage\n",
        "    FROM gaza_buildings bld\n",
        "    JOIN damage_points dam\n",
        "    ON ST_Intersects(bld.geom, dam.geom)\n",
        "    WHERE bld.building = 'hospital'\n",
        "\"\"\")\n"
      ]
    },
    {
      "cell_type": "markdown",
      "id": "SIcc0Qf7Lbfg",
      "metadata": {
        "id": "SIcc0Qf7Lbfg"
      },
      "source": [
        "## Question 9\n",
        "\n",
        "The UNOSAT data contains a column called \"Governorat\" (shapefiles only allow column names of up to 10 characters). Calculate the number of damaged schools in each governorate."
      ]
    },
    {
      "cell_type": "code",
      "execution_count": null,
      "id": "cEvYw6lLL4Hp",
      "metadata": {
        "id": "cEvYw6lLL4Hp",
        "colab": {
          "base_uri": "https://localhost:8080/"
        },
        "outputId": "89a493d8-33d8-43b6-81d9-5aadc643a6d3"
      },
      "outputs": [
        {
          "output_type": "execute_result",
          "data": {
            "text/plain": [
              "┌───────────────┬─────────────────┐\n",
              "│  Governorat   │ damaged_schools │\n",
              "│    varchar    │      int64      │\n",
              "├───────────────┼─────────────────┤\n",
              "│ Gaza          │              69 │\n",
              "│ North Gaza    │              29 │\n",
              "│ Khan Yunis    │              46 │\n",
              "│ Deir Al-Balah │               6 │\n",
              "└───────────────┴─────────────────┘"
            ]
          },
          "metadata": {},
          "execution_count": 94
        }
      ],
      "source": [
        "con.sql(\"\"\"\n",
        "    SELECT\n",
        "        dam.governorat,\n",
        "        COUNT(*) AS damaged_schools\n",
        "    FROM gaza_buildings bld\n",
        "    JOIN damage_points dam\n",
        "    ON ST_Intersects(bld.geom, dam.geom)\n",
        "    WHERE LOWER(bld.building) = 'school'  -- Ensures case-insensitive match\n",
        "    GROUP BY dam.governorat\n",
        "\"\"\")\n"
      ]
    },
    {
      "cell_type": "markdown",
      "id": "yRUEI6lbwYgk",
      "metadata": {
        "id": "yRUEI6lbwYgk"
      },
      "source": [
        "## Question 10\n",
        "\n",
        "The \"Dar Al-Shifa Hospital\" was the largest medical complex in the gaza strip. Find the hospital's building footprint, and calculate the proportion of damaged buildings within 1 kilometer."
      ]
    },
    {
      "cell_type": "code",
      "execution_count": null,
      "id": "FKmTslPM1zIx",
      "metadata": {
        "id": "FKmTslPM1zIx",
        "colab": {
          "base_uri": "https://localhost:8080/"
        },
        "outputId": "e70912ba-3347-4a68-a8f0-f253d9778d21"
      },
      "outputs": [
        {
          "output_type": "execute_result",
          "data": {
            "text/plain": [
              "┌───────────────────────┬───────────────────┐\n",
              "│         name          │  area_sq_meters   │\n",
              "│        varchar        │      double       │\n",
              "├───────────────────────┼───────────────────┤\n",
              "│ Dar Al-Shifa Hospital │ 5897.750639944306 │\n",
              "└───────────────────────┴───────────────────┘"
            ]
          },
          "metadata": {},
          "execution_count": 96
        }
      ],
      "source": [
        "con.sql(\"\"\"\n",
        "    SELECT\n",
        "        name,\n",
        "        ST_AREA(ST_Transform(bld.geom, 'EPSG:4326', 'EPSG:3857')) AS area_sq_meters\n",
        "    FROM gaza_buildings bld\n",
        "    WHERE LOWER(name) = 'dar al-shifa hospital';\n",
        "\"\"\")\n"
      ]
    },
    {
      "cell_type": "code",
      "source": [
        "con.sql(\"\"\"\n",
        "    WITH hospital_geom AS (\n",
        "        SELECT geom\n",
        "        FROM gaza_buildings\n",
        "        WHERE LOWER(name) = 'dar al-shifa hospital'\n",
        "    )\n",
        "    SELECT\n",
        "        100.0 * COUNT(DISTINCT bld.geom) / SUM(COUNT(DISTINCT bld.geom)) OVER () AS damaged_building_percentage\n",
        "    FROM gaza_buildings bld\n",
        "    JOIN damage_points dam\n",
        "        ON ST_Intersects(bld.geom, dam.geom)\n",
        "    WHERE ST_DWithin(\n",
        "        ST_Transform(bld.geom, 'EPSG:4326', 'EPSG:3857'),\n",
        "        (SELECT ST_Transform(geom, 'EPSG:4326', 'EPSG:3857') FROM hospital_geom),\n",
        "        1000\n",
        "    );\n",
        "\"\"\")\n"
      ],
      "metadata": {
        "colab": {
          "base_uri": "https://localhost:8080/",
          "height": 156,
          "referenced_widgets": [
            "73adaf1677174c02a3d6efd589cb7e14",
            "29357f96e8604e80b3757c799d8f390a",
            "c8fce828f5bf463286e7719216bb68a1"
          ]
        },
        "id": "pchxQOn3AjiS",
        "outputId": "a7336137-128d-462e-8309-b759a0b06aba"
      },
      "id": "pchxQOn3AjiS",
      "execution_count": null,
      "outputs": [
        {
          "output_type": "display_data",
          "data": {
            "text/plain": [
              "FloatProgress(value=0.0, layout=Layout(width='auto'), style=ProgressStyle(bar_color='black'))"
            ],
            "application/vnd.jupyter.widget-view+json": {
              "version_major": 2,
              "version_minor": 0,
              "model_id": "73adaf1677174c02a3d6efd589cb7e14"
            }
          },
          "metadata": {
            "application/vnd.jupyter.widget-view+json": {
              "colab": {
                "custom_widget_manager": {
                  "url": "https://ssl.gstatic.com/colaboratory-static/widgets/colab-cdn-widget-manager/2b70e893a8ba7c0f/manager.min.js"
                }
              }
            }
          }
        },
        {
          "output_type": "execute_result",
          "data": {
            "text/plain": [
              "┌─────────────────────────────┐\n",
              "│ damaged_building_percentage │\n",
              "│           double            │\n",
              "├─────────────────────────────┤\n",
              "│                       100.0 │\n",
              "└─────────────────────────────┘"
            ]
          },
          "metadata": {},
          "execution_count": 98
        }
      ]
    }
  ],
  "metadata": {
    "colab": {
      "provenance": [],
      "include_colab_link": true
    },
    "kernelspec": {
      "display_name": "geo",
      "language": "python",
      "name": "python3"
    },
    "language_info": {
      "codemirror_mode": {
        "name": "ipython",
        "version": 3
      },
      "file_extension": ".py",
      "mimetype": "text/x-python",
      "name": "python",
      "nbconvert_exporter": "python",
      "pygments_lexer": "ipython3",
      "version": "3.9.20"
    },
    "widgets": {
      "application/vnd.jupyter.widget-state+json": {
        "fee92b26e97f4daf97eaecc01c4b5f16": {
          "model_module": "@jupyter-widgets/controls",
          "model_name": "FloatProgressModel",
          "model_module_version": "1.5.0",
          "state": {
            "_dom_classes": [],
            "_model_module": "@jupyter-widgets/controls",
            "_model_module_version": "1.5.0",
            "_model_name": "FloatProgressModel",
            "_view_count": null,
            "_view_module": "@jupyter-widgets/controls",
            "_view_module_version": "1.5.0",
            "_view_name": "ProgressView",
            "bar_style": "",
            "description": "",
            "description_tooltip": null,
            "layout": "IPY_MODEL_a165e5782d1a497e990a7b3ff7875b4a",
            "max": 100,
            "min": 0,
            "orientation": "horizontal",
            "style": "IPY_MODEL_946700a0b6324fedb64294aa8dbd4f74",
            "value": 100
          }
        },
        "a165e5782d1a497e990a7b3ff7875b4a": {
          "model_module": "@jupyter-widgets/base",
          "model_name": "LayoutModel",
          "model_module_version": "1.2.0",
          "state": {
            "_model_module": "@jupyter-widgets/base",
            "_model_module_version": "1.2.0",
            "_model_name": "LayoutModel",
            "_view_count": null,
            "_view_module": "@jupyter-widgets/base",
            "_view_module_version": "1.2.0",
            "_view_name": "LayoutView",
            "align_content": null,
            "align_items": null,
            "align_self": null,
            "border": null,
            "bottom": null,
            "display": null,
            "flex": null,
            "flex_flow": null,
            "grid_area": null,
            "grid_auto_columns": null,
            "grid_auto_flow": null,
            "grid_auto_rows": null,
            "grid_column": null,
            "grid_gap": null,
            "grid_row": null,
            "grid_template_areas": null,
            "grid_template_columns": null,
            "grid_template_rows": null,
            "height": null,
            "justify_content": null,
            "justify_items": null,
            "left": null,
            "margin": null,
            "max_height": null,
            "max_width": null,
            "min_height": null,
            "min_width": null,
            "object_fit": null,
            "object_position": null,
            "order": null,
            "overflow": null,
            "overflow_x": null,
            "overflow_y": null,
            "padding": null,
            "right": null,
            "top": null,
            "visibility": null,
            "width": "auto"
          }
        },
        "946700a0b6324fedb64294aa8dbd4f74": {
          "model_module": "@jupyter-widgets/controls",
          "model_name": "ProgressStyleModel",
          "model_module_version": "1.5.0",
          "state": {
            "_model_module": "@jupyter-widgets/controls",
            "_model_module_version": "1.5.0",
            "_model_name": "ProgressStyleModel",
            "_view_count": null,
            "_view_module": "@jupyter-widgets/base",
            "_view_module_version": "1.2.0",
            "_view_name": "StyleView",
            "bar_color": "black",
            "description_width": ""
          }
        },
        "55e3387e2cd143e1b5ac4ce9670634e4": {
          "model_module": "@jupyter-widgets/controls",
          "model_name": "FloatProgressModel",
          "model_module_version": "1.5.0",
          "state": {
            "_dom_classes": [],
            "_model_module": "@jupyter-widgets/controls",
            "_model_module_version": "1.5.0",
            "_model_name": "FloatProgressModel",
            "_view_count": null,
            "_view_module": "@jupyter-widgets/controls",
            "_view_module_version": "1.5.0",
            "_view_name": "ProgressView",
            "bar_style": "",
            "description": "",
            "description_tooltip": null,
            "layout": "IPY_MODEL_79648d429785465892e8c68ced3cc8fd",
            "max": 100,
            "min": 0,
            "orientation": "horizontal",
            "style": "IPY_MODEL_5ef2cceb5aa04a59b00be9395f0b41c1",
            "value": 100
          }
        },
        "79648d429785465892e8c68ced3cc8fd": {
          "model_module": "@jupyter-widgets/base",
          "model_name": "LayoutModel",
          "model_module_version": "1.2.0",
          "state": {
            "_model_module": "@jupyter-widgets/base",
            "_model_module_version": "1.2.0",
            "_model_name": "LayoutModel",
            "_view_count": null,
            "_view_module": "@jupyter-widgets/base",
            "_view_module_version": "1.2.0",
            "_view_name": "LayoutView",
            "align_content": null,
            "align_items": null,
            "align_self": null,
            "border": null,
            "bottom": null,
            "display": null,
            "flex": null,
            "flex_flow": null,
            "grid_area": null,
            "grid_auto_columns": null,
            "grid_auto_flow": null,
            "grid_auto_rows": null,
            "grid_column": null,
            "grid_gap": null,
            "grid_row": null,
            "grid_template_areas": null,
            "grid_template_columns": null,
            "grid_template_rows": null,
            "height": null,
            "justify_content": null,
            "justify_items": null,
            "left": null,
            "margin": null,
            "max_height": null,
            "max_width": null,
            "min_height": null,
            "min_width": null,
            "object_fit": null,
            "object_position": null,
            "order": null,
            "overflow": null,
            "overflow_x": null,
            "overflow_y": null,
            "padding": null,
            "right": null,
            "top": null,
            "visibility": null,
            "width": "auto"
          }
        },
        "5ef2cceb5aa04a59b00be9395f0b41c1": {
          "model_module": "@jupyter-widgets/controls",
          "model_name": "ProgressStyleModel",
          "model_module_version": "1.5.0",
          "state": {
            "_model_module": "@jupyter-widgets/controls",
            "_model_module_version": "1.5.0",
            "_model_name": "ProgressStyleModel",
            "_view_count": null,
            "_view_module": "@jupyter-widgets/base",
            "_view_module_version": "1.2.0",
            "_view_name": "StyleView",
            "bar_color": "black",
            "description_width": ""
          }
        },
        "73adaf1677174c02a3d6efd589cb7e14": {
          "model_module": "@jupyter-widgets/controls",
          "model_name": "FloatProgressModel",
          "model_module_version": "1.5.0",
          "state": {
            "_dom_classes": [],
            "_model_module": "@jupyter-widgets/controls",
            "_model_module_version": "1.5.0",
            "_model_name": "FloatProgressModel",
            "_view_count": null,
            "_view_module": "@jupyter-widgets/controls",
            "_view_module_version": "1.5.0",
            "_view_name": "ProgressView",
            "bar_style": "",
            "description": "",
            "description_tooltip": null,
            "layout": "IPY_MODEL_29357f96e8604e80b3757c799d8f390a",
            "max": 100,
            "min": 0,
            "orientation": "horizontal",
            "style": "IPY_MODEL_c8fce828f5bf463286e7719216bb68a1",
            "value": 100
          }
        },
        "29357f96e8604e80b3757c799d8f390a": {
          "model_module": "@jupyter-widgets/base",
          "model_name": "LayoutModel",
          "model_module_version": "1.2.0",
          "state": {
            "_model_module": "@jupyter-widgets/base",
            "_model_module_version": "1.2.0",
            "_model_name": "LayoutModel",
            "_view_count": null,
            "_view_module": "@jupyter-widgets/base",
            "_view_module_version": "1.2.0",
            "_view_name": "LayoutView",
            "align_content": null,
            "align_items": null,
            "align_self": null,
            "border": null,
            "bottom": null,
            "display": null,
            "flex": null,
            "flex_flow": null,
            "grid_area": null,
            "grid_auto_columns": null,
            "grid_auto_flow": null,
            "grid_auto_rows": null,
            "grid_column": null,
            "grid_gap": null,
            "grid_row": null,
            "grid_template_areas": null,
            "grid_template_columns": null,
            "grid_template_rows": null,
            "height": null,
            "justify_content": null,
            "justify_items": null,
            "left": null,
            "margin": null,
            "max_height": null,
            "max_width": null,
            "min_height": null,
            "min_width": null,
            "object_fit": null,
            "object_position": null,
            "order": null,
            "overflow": null,
            "overflow_x": null,
            "overflow_y": null,
            "padding": null,
            "right": null,
            "top": null,
            "visibility": null,
            "width": "auto"
          }
        },
        "c8fce828f5bf463286e7719216bb68a1": {
          "model_module": "@jupyter-widgets/controls",
          "model_name": "ProgressStyleModel",
          "model_module_version": "1.5.0",
          "state": {
            "_model_module": "@jupyter-widgets/controls",
            "_model_module_version": "1.5.0",
            "_model_name": "ProgressStyleModel",
            "_view_count": null,
            "_view_module": "@jupyter-widgets/base",
            "_view_module_version": "1.2.0",
            "_view_name": "StyleView",
            "bar_color": "black",
            "description_width": ""
          }
        }
      }
    }
  },
  "nbformat": 4,
  "nbformat_minor": 5
}