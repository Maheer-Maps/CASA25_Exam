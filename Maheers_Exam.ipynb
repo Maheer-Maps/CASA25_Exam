{
  "cells": [
    {
      "cell_type": "markdown",
      "metadata": {
        "id": "view-in-github",
        "colab_type": "text"
      },
      "source": [
        "<a href=\"https://colab.research.google.com/github/Maheer-Maps/CASA0025-Big-Data/blob/main/Maheers_Exam.ipynb\" target=\"_parent\"><img src=\"https://colab.research.google.com/assets/colab-badge.svg\" alt=\"Open In Colab\"/></a>"
      ]
    },
    {
      "cell_type": "markdown",
      "metadata": {
        "id": "z1yGYbf10Slg"
      },
      "source": [
        "# CASA00025 Exam (11.02.2025)\n",
        "\n",
        "**Exam Datasets**:\n",
        "\n",
        "--insert here--"
      ],
      "id": "z1yGYbf10Slg"
    },
    {
      "cell_type": "code",
      "execution_count": null,
      "metadata": {
        "id": "TA93e2Is0Slh"
      },
      "outputs": [],
      "source": [
        "# %pip install duckdb leafmap\n",
        "\n",
        "%pip install duckdb duckdb-engine jupysql\n",
        "%load_ext sql\n",
        "%config SqlMagic.autopandas = True\n",
        "%config SqlMagic.feedback = False\n",
        "%config SqlMagic.displaycon = False\n",
        "\n",
        "!pip install leafmap\n",
        "import duckdb\n",
        "import leafmap"
      ],
      "id": "TA93e2Is0Slh"
    },
    {
      "cell_type": "code",
      "execution_count": null,
      "metadata": {
        "id": "lpCa4UpA0Slj"
      },
      "outputs": [],
      "source": [
        "%config SqlMagic.autopandas = True\n",
        "%config SqlMagic.feedback = False\n",
        "%config SqlMagic.displaycon = False"
      ],
      "id": "lpCa4UpA0Slj"
    },
    {
      "cell_type": "code",
      "source": [
        "%sql duckdb:///:memory:\n",
        "# %sql duckdb:///path/to/file.db"
      ],
      "metadata": {
        "id": "fjd5dKrL1CVV"
      },
      "id": "fjd5dKrL1CVV",
      "execution_count": null,
      "outputs": []
    },
    {
      "cell_type": "code",
      "source": [
        "url = \"https://open.gishub.org/data/duckdb/nyc_data.db.zip\"\n",
        "leafmap.download_file(url, unzip=True)\n",
        "\n",
        "con = duckdb.connect('nyc_data.db')\n",
        "\n",
        "con.install_extension('spatial')\n",
        "con.load_extension('spatial')\n",
        "\n",
        "con.sql(\"SHOW TABLES;\")\n",
        "\n",
        "con.sql(\"SELECT * from nyc_subway_stations LIMIT 5\")"
      ],
      "metadata": {
        "id": "YeeQTgYm0uZZ"
      },
      "id": "YeeQTgYm0uZZ",
      "execution_count": null,
      "outputs": []
    },
    {
      "cell_type": "markdown",
      "source": [
        "# If I need a to make a table"
      ],
      "metadata": {
        "id": "5i-Vczev1R9c"
      },
      "id": "5i-Vczev1R9c"
    },
    {
      "cell_type": "code",
      "source": [
        "%%sql\n",
        "\n",
        "INSTALL httpfs;\n",
        "LOAD httpfs;"
      ],
      "metadata": {
        "id": "K1F9dkR91GTH"
      },
      "id": "K1F9dkR91GTH",
      "execution_count": null,
      "outputs": []
    },
    {
      "cell_type": "markdown",
      "source": [
        "Load data"
      ],
      "metadata": {
        "id": "kV0oBb-t1iUb"
      },
      "id": "kV0oBb-t1iUb"
    },
    {
      "cell_type": "code",
      "source": [
        "%%sql\n",
        "\n",
        "SELECT * FROM 'https://open.gishub.org/data/duckdb/cities.csv';"
      ],
      "metadata": {
        "id": "Lkcj3qiv1Q8v"
      },
      "id": "Lkcj3qiv1Q8v",
      "execution_count": null,
      "outputs": []
    },
    {
      "cell_type": "markdown",
      "source": [
        "Make table"
      ],
      "metadata": {
        "id": "5UT18Ysq1cfJ"
      },
      "id": "5UT18Ysq1cfJ"
    },
    {
      "cell_type": "code",
      "source": [
        "%%sql\n",
        "\n",
        "CREATE TABLE cities AS SELECT * FROM 'https://open.gishub.org/data/duckdb/cities.csv';"
      ],
      "metadata": {
        "id": "E_nAaLYj1Zmz"
      },
      "id": "E_nAaLYj1Zmz",
      "execution_count": null,
      "outputs": []
    },
    {
      "cell_type": "markdown",
      "source": [
        "See table"
      ],
      "metadata": {
        "id": "wgaVlGlW1lXM"
      },
      "id": "wgaVlGlW1lXM"
    },
    {
      "cell_type": "code",
      "source": [
        "%%sql\n",
        "\n",
        "FROM cities;"
      ],
      "metadata": {
        "id": "rwqiv4aZ1cG-"
      },
      "id": "rwqiv4aZ1cG-",
      "execution_count": null,
      "outputs": []
    },
    {
      "cell_type": "markdown",
      "source": [
        "# 0. Show tables"
      ],
      "metadata": {
        "id": "rScd2WsR0yMG"
      },
      "id": "rScd2WsR0yMG"
    },
    {
      "cell_type": "code",
      "source": [
        "con.sql(\"\"\"\n",
        "\n",
        "PRAGMA table_info(nyc_subway_stations);\n",
        "\n",
        "\"\"\")"
      ],
      "metadata": {
        "id": "7n1i60Bu03i6"
      },
      "id": "7n1i60Bu03i6",
      "execution_count": null,
      "outputs": []
    },
    {
      "cell_type": "markdown",
      "source": [
        "# 1. ?"
      ],
      "metadata": {
        "id": "Tl3H5-T-04Or"
      },
      "id": "Tl3H5-T-04Or"
    }
  ],
  "metadata": {
    "kernelspec": {
      "display_name": "geo",
      "language": "python",
      "name": "python3"
    },
    "language_info": {
      "codemirror_mode": {
        "name": "ipython",
        "version": 3
      },
      "file_extension": ".py",
      "mimetype": "text/x-python",
      "name": "python",
      "nbconvert_exporter": "python",
      "pygments_lexer": "ipython3",
      "version": "undefined.undefined.undefined"
    },
    "colab": {
      "provenance": [],
      "include_colab_link": true
    }
  },
  "nbformat": 4,
  "nbformat_minor": 5
}